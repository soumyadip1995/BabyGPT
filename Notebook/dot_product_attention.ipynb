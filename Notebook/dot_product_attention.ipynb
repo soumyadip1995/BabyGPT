{
  "nbformat": 4,
  "nbformat_minor": 0,
  "metadata": {
    "colab": {
      "provenance": []
    },
    "kernelspec": {
      "name": "python3",
      "display_name": "Python 3"
    },
    "language_info": {
      "name": "python"
    },
    "gpuClass": "standard"
  },
  "cells": [
    {
      "cell_type": "code",
      "execution_count": null,
      "metadata": {
        "id": "qsTJ-1TOFLOZ"
      },
      "outputs": [],
      "source": [
        "!python /content/ngram_chatgpt5.py"
      ]
    },
    {
      "cell_type": "code",
      "source": [
        "words = open('/content/text.txt', 'r').read().split()\n",
        "words[:20]"
      ],
      "metadata": {
        "colab": {
          "base_uri": "https://localhost:8080/"
        },
        "id": "K3iL7zQWCmdW",
        "outputId": "da5a1708-eafb-452c-88b1-fa4b328e4264"
      },
      "execution_count": 1,
      "outputs": [
        {
          "output_type": "execute_result",
          "data": {
            "text/plain": [
              "['So',\n",
              " 'Ray',\n",
              " 'J',\n",
              " 'went',\n",
              " 'straight',\n",
              " 'to',\n",
              " 'the',\n",
              " 'radio',\n",
              " 'station',\n",
              " 'The',\n",
              " 'very',\n",
              " 'next',\n",
              " 'day,',\n",
              " '\"Hey',\n",
              " 'Fab,',\n",
              " \"I'ma\",\n",
              " 'kill',\n",
              " 'you!\"',\n",
              " 'Lyrics',\n",
              " \"comin'\"]"
            ]
          },
          "metadata": {},
          "execution_count": 1
        }
      ]
    },
    {
      "cell_type": "code",
      "source": [
        "#from karpathy\n",
        "\n",
        "data = {}\n",
        "for w in words:\n",
        "  chars = list(w)\n",
        "  for ch1, ch2 in zip(chars, chars[1:]):\n",
        "    bigram = (ch1, ch2)\n",
        "    data[bigram] = data.get(bigram, 0) + 1\n",
        "\n"
      ],
      "metadata": {
        "id": "K5iG857vD4RG"
      },
      "execution_count": 4,
      "outputs": []
    },
    {
      "cell_type": "code",
      "source": [
        "sorted(data.items(), key = lambda kv: -kv[1])"
      ],
      "metadata": {
        "colab": {
          "base_uri": "https://localhost:8080/"
        },
        "id": "IyqmGYeKEguO",
        "outputId": "043f88df-7342-49ec-af1c-7dbd19a4a61c"
      },
      "execution_count": 5,
      "outputs": [
        {
          "output_type": "execute_result",
          "data": {
            "text/plain": [
              "[(('t', 'h'), 18),\n",
              " (('a', 't'), 17),\n",
              " (('h', 'e'), 15),\n",
              " (('i', 'n'), 14),\n",
              " (('m', 'a'), 12),\n",
              " (('o', 'u'), 11),\n",
              " (('i', 't'), 11),\n",
              " (('t', 'i'), 10),\n",
              " (('a', 'n'), 10),\n",
              " (('t', 'o'), 9),\n",
              " (('e', 'r'), 9),\n",
              " (('n', 'g'), 9),\n",
              " (('e', 'l'), 8),\n",
              " (('a', 'y'), 7),\n",
              " (('h', 'a'), 7),\n",
              " (('e', 'v'), 7),\n",
              " (('u', 's'), 7),\n",
              " (('s', 'e'), 7),\n",
              " (('v', 'e'), 6),\n",
              " (('e', 'y'), 6),\n",
              " (('l', 'l'), 6),\n",
              " (('y', 'o'), 6),\n",
              " (('u', 'm'), 6),\n",
              " (('n', 'd'), 6),\n",
              " (('s', 't'), 5),\n",
              " (('r', 'a'), 5),\n",
              " (('o', 'n'), 5),\n",
              " (('I', \"'\"), 5),\n",
              " ((\"'\", 'm'), 5),\n",
              " (('i', 'c'), 5),\n",
              " (('v', 'a'), 5),\n",
              " (('t', \"'\"), 5),\n",
              " ((\"'\", 's'), 5),\n",
              " (('a', 'd'), 4),\n",
              " (('t', 'a'), 4),\n",
              " (('n', \"'\"), 4),\n",
              " (('s', 'u'), 4),\n",
              " (('o', 't'), 4),\n",
              " (('e', 't'), 4),\n",
              " (('n', 'o'), 4),\n",
              " (('o', 'f'), 4),\n",
              " (('o', 'c'), 4),\n",
              " (('m', 'o'), 4),\n",
              " (('o', 'r'), 4),\n",
              " (('r', 'e'), 4),\n",
              " (('o', 'w'), 4),\n",
              " (('k', 'e'), 4),\n",
              " (('l', 'e'), 4),\n",
              " (('e', 'n'), 3),\n",
              " (('t', 'r'), 3),\n",
              " (('a', 'i'), 3),\n",
              " (('d', 'i'), 3),\n",
              " (('c', 'o'), 3),\n",
              " (('p', 'e'), 3),\n",
              " (('r', 's'), 3),\n",
              " (('m', 'm'), 3),\n",
              " (('l', 'u'), 3),\n",
              " (('d', 'o'), 3),\n",
              " (('g', 'e'), 3),\n",
              " (('r', 'o'), 3),\n",
              " (('i', 'v'), 3),\n",
              " (('d', 'e'), 3),\n",
              " (('e', 'm'), 3),\n",
              " (('f', 'u'), 3),\n",
              " (('c', 'k'), 3),\n",
              " (('a', 'u'), 3),\n",
              " (('w', 'a'), 3),\n",
              " (('a', 'k'), 3),\n",
              " (('g', 'h'), 2),\n",
              " (('i', 'o'), 2),\n",
              " (('T', 'h'), 2),\n",
              " (('d', 'a'), 2),\n",
              " (('F', 'a'), 2),\n",
              " (('k', 'i'), 2),\n",
              " (('r', 'i'), 2),\n",
              " (('o', 'm'), 2),\n",
              " (('m', 'i'), 2),\n",
              " (('u', 'p'), 2),\n",
              " (('s', 'o'), 2),\n",
              " (('e', 'e'), 2),\n",
              " (('e', 'd'), 2),\n",
              " (('J', '.'), 2),\n",
              " (('h', ','), 2),\n",
              " (('a', '-'), 2),\n",
              " (('-', 'l'), 2),\n",
              " (('a', ','), 2),\n",
              " (('o', 'o'), 2),\n",
              " (('a', 's'), 2),\n",
              " (('h', 'u'), 2),\n",
              " (('h', 'r'), 2),\n",
              " (('b', 'e'), 2),\n",
              " (('h', 'i'), 2),\n",
              " (('Y', 'o'), 2),\n",
              " (('s', 'a'), 2),\n",
              " (('f', 'f'), 2),\n",
              " ((\"'\", 'l'), 2),\n",
              " (('g', ','), 2),\n",
              " (('n', 's'), 2),\n",
              " (('c', 'e'), 2),\n",
              " (('f', 'e'), 2),\n",
              " (('l', 'i'), 2),\n",
              " (('k', 'n'), 2),\n",
              " (('t', 'e'), 2),\n",
              " (('f', 'o'), 2),\n",
              " (('c', 'a'), 2),\n",
              " ((\"'\", 'e'), 2),\n",
              " (('m', 'u'), 2),\n",
              " (('s', 'i'), 2),\n",
              " (('e', 'a'), 2),\n",
              " (('w', 'h'), 2),\n",
              " (('l', 'o'), 2),\n",
              " (('h', 'o'), 2),\n",
              " (('o', 'p'), 2),\n",
              " (('p', ','), 2),\n",
              " (('o', 's'), 2),\n",
              " (('S', 'o'), 1),\n",
              " (('R', 'a'), 1),\n",
              " (('w', 'e'), 1),\n",
              " (('n', 't'), 1),\n",
              " (('i', 'g'), 1),\n",
              " (('h', 't'), 1),\n",
              " (('r', 'y'), 1),\n",
              " (('n', 'e'), 1),\n",
              " (('e', 'x'), 1),\n",
              " (('x', 't'), 1),\n",
              " (('y', ','), 1),\n",
              " (('\"', 'H'), 1),\n",
              " (('H', 'e'), 1),\n",
              " (('a', 'b'), 1),\n",
              " (('b', ','), 1),\n",
              " (('i', 'l'), 1),\n",
              " (('u', '!'), 1),\n",
              " (('!', '\"'), 1),\n",
              " (('L', 'y'), 1),\n",
              " (('y', 'r'), 1),\n",
              " (('c', 's'), 1),\n",
              " (('n', 'i'), 1),\n",
              " (('s', 'p'), 1),\n",
              " (('(', 'J'), 1),\n",
              " (('.', 'J'), 1),\n",
              " (('d', ')'), 1),\n",
              " (('U', 'h'), 1),\n",
              " (('s', 's'), 1),\n",
              " (('W', 'h'), 1),\n",
              " (('g', 'o'), 1),\n",
              " (('t', 't'), 1),\n",
              " (('u', 'g'), 1),\n",
              " (('r', 'h'), 1),\n",
              " (('n', '?'), 1),\n",
              " (('I', 'n'), 1),\n",
              " (('n', 'n'), 1),\n",
              " (('o', 'v'), 1),\n",
              " (('r', 'u'), 1),\n",
              " (('u', 'b'), 1),\n",
              " (('b', 'b'), 1),\n",
              " (('n', 'y'), 1),\n",
              " (('y', 't'), 1),\n",
              " (('i', 's'), 1),\n",
              " (('c', 'h'), 1),\n",
              " (('m', 'e'), 1),\n",
              " (('e', ','), 1),\n",
              " (('g', 'l'), 1),\n",
              " (('u', 'e'), 1),\n",
              " (('H', 'o'), 1),\n",
              " (('g', 'i'), 1),\n",
              " (('r', 'f'), 1),\n",
              " (('u', 'c'), 1),\n",
              " (('u', 'd'), 1),\n",
              " (('i', 'e'), 1),\n",
              " (('n', 'c'), 1),\n",
              " (('i', 'k'), 1),\n",
              " (('v', 'i'), 1),\n",
              " (('N', 'e'), 1),\n",
              " (('f', 'a'), 1),\n",
              " (('a', 'r'), 1),\n",
              " (('F', 'o'), 1),\n",
              " (('f', ','), 1),\n",
              " (('y', \"'\"), 1),\n",
              " (('e', 'b'), 1),\n",
              " (('b', 'r'), 1),\n",
              " ((\"'\", 'C'), 1),\n",
              " (('C', 'a'), 1),\n",
              " (('c', ','), 1),\n",
              " (('\"', 'O'), 1),\n",
              " (('O', 'h'), 1),\n",
              " (('e', \"'\"), 1),\n",
              " (('a', 'm'), 1),\n",
              " (('m', '\"'), 1),\n",
              " (('W', 'e'), 1),\n",
              " (('l', ','), 1),\n",
              " (('j', 'e'), 1),\n",
              " (('a', 'l'), 1),\n",
              " (('s', ','), 1),\n",
              " (('n', 'f'), 1),\n",
              " (('\"', 'I'), 1),\n",
              " (('I', 't'), 1),\n",
              " (('i', 'p'), 1),\n",
              " (('p', '-'), 1),\n",
              " (('-', 'h'), 1),\n",
              " (('p', 'o'), 1),\n",
              " ((\"'\", 'c'), 1),\n",
              " (('u', 'n'), 1),\n",
              " (('l', 'a'), 1),\n",
              " (('W', 'i'), 1),\n",
              " (('k', ','), 1),\n",
              " (('s', 'h'), 1),\n",
              " (('a', 'p'), 1),\n",
              " (('w', 'i'), 1),\n",
              " (('D', 'o'), 1),\n",
              " (('\"', 'L'), 1),\n",
              " (('L', 'o'), 1),\n",
              " (('u', 'r'), 1),\n",
              " (('l', 'f'), 1),\n",
              " (('f', '\"'), 1)]"
            ]
          },
          "metadata": {},
          "execution_count": 5
        }
      ]
    },
    {
      "cell_type": "code",
      "source": [
        "char = sorted(list(set(words)))"
      ],
      "metadata": {
        "id": "sWqoBOBxH0hl"
      },
      "execution_count": 7,
      "outputs": []
    },
    {
      "cell_type": "code",
      "source": [
        "# split the training data\n",
        "string2integer = {ch: i for i, ch in enumerate(char)}\n",
        "print(string2integer)\n",
        "encode = lambda s: [string2integer[c] for c in s]\n",
        "print(encode)\n",
        "\n",
        "decode = lambda l: ''.join([string2integer[i] for i in l])"
      ],
      "metadata": {
        "colab": {
          "base_uri": "https://localhost:8080/"
        },
        "id": "oEcBOKFlHKLR",
        "outputId": "b8d82f29-ce49-48f2-be0e-f598c570c6f3"
      },
      "execution_count": 8,
      "outputs": [
        {
          "output_type": "stream",
          "name": "stdout",
          "text": [
            "{'\"': 0, '\"Hey': 1, '\"It\\'s': 2, '\"Lose': 3, '\"Oh,': 4, \"'Cause\": 5, \"'cause\": 6, \"'em\": 7, '(J.J.': 8, 'Doc': 9, 'Fab,': 10, 'Fad)': 11, 'For': 12, 'How': 13, 'I': 14, \"I'm\": 15, \"I'ma\": 16, 'Innovative': 17, 'J': 18, 'Lyrics': 19, 'Never': 20, 'Ray': 21, 'So': 22, 'The': 23, 'Throw': 24, 'Uh,': 25, 'Well,': 26, 'What': 27, 'With': 28, 'You': 29, 'Yourself\"': 30, 'a': 31, 'and': 32, 'anything': 33, 'are': 34, \"assumin'\": 35, 'at': 36, 'audience': 37, 'be': 38, 'can': 39, 'celebrating': 40, \"comin'\": 41, 'confuse': 42, 'day': 43, 'day,': 44, 'demonstrating': 45, 'devastating,': 46, 'do': 47, 'dooma-lumma,': 48, 'elevating': 49, 'elevator': 50, 'ever': 51, 'fading,': 52, 'feeling': 53, 'fell': 54, 'forever': 55, 'found': 56, 'fuse': 57, 'get': 58, 'give': 59, 'glue': 60, 'gotta': 61, 'haters': 62, \"he's\": 63, 'hella': 64, 'hip-hop,': 65, 'human': 66, 'is': 67, 'it': 68, \"it'll\": 69, \"it's\": 70, 'jealous,': 71, 'kill': 72, 'know': 73, 'levitating': 74, 'like': 75, 'lose': 76, 'made': 77, 'mainstream\"': 78, 'make': 79, 'me,': 80, 'more': 81, \"motherfuckin'\": 82, 'motivated': 83, 'music': 84, 'music,': 85, 'next': 86, 'not': 87, 'of': 88, 'off': 89, 'off,': 90, 'on': 91, 'pop,': 92, 'radio': 93, 'rap': 94, \"ricochetin'\": 95, 'rock,': 96, 'rubber': 97, 'say': 98, 'shock': 99, 'so': 100, 'speed': 101, 'station': 102, 'straight': 103, 'summa-lumma,': 104, 'superhuman?': 105, 'supersonic': 106, 'than': 107, 'that': 108, \"that's\": 109, 'the': 110, 'they': 111, \"they'll\": 112, 'through': 113, 'to': 114, 'too': 115, 'very': 116, 'waiting': 117, 'way': 118, 'went': 119, 'what': 120, 'when': 121, 'with': 122, 'you': 123, 'you!\"': 124}\n",
            "<function <lambda> at 0x7f60282b79d0>\n"
          ]
        }
      ]
    },
    {
      "cell_type": "code",
      "source": [
        "import torch\n",
        "data = torch.tensor(encode(words), dtype = torch.long)\n",
        "n = int(0.4 * len(words))\n",
        "train_data = data[:n]\n",
        "val_data = data[n:]\n",
        "print(val_data)"
      ],
      "metadata": {
        "colab": {
          "base_uri": "https://localhost:8080/"
        },
        "id": "WMPkvDxvMP3N",
        "outputId": "bc20451b-5b75-4092-bd96-d985c0123e36"
      },
      "execution_count": 9,
      "outputs": [
        {
          "output_type": "stream",
          "name": "stdout",
          "text": [
            "tensor([ 32,  15,  46,  81, 107,  51,  45,  13, 114,  59,  31,  82,  37,  31,\n",
            "         53,  75,  70,  74,  20,  52,  32,  14,  73, 110,  62,  34,  55, 117,\n",
            "         12, 110,  43, 108, 111,  39,  98,  14,  54,  90, 112,  38,  40,   5,\n",
            "         14,  73, 110, 118, 114,  58,   7,  83,  14,  79,  49,  85, 123,  79,\n",
            "         50,  84,   4,  63, 115,  78,  26, 109, 120, 111,  47, 121, 111,  58,\n",
            "         71, 111,  42,  68,   2,  87,  65,  70,  92,   0,   6,  14,  56,  31,\n",
            "         64, 118, 114,  57,  68,  28,  96,  99,  94, 122,   9,  24,  91,   3,\n",
            "         30,  32,  79,   7,  76,  68])\n"
          ]
        }
      ]
    },
    {
      "cell_type": "code",
      "source": [
        "string2integer = {ch: i for i, ch in enumerate(char)}\n",
        "print(string2integer)\n",
        "\n",
        "res = dict(enumerate(words))\n",
        "print(res)\n",
        "keyList = [key for key in res]\n",
        "print(keyList)\n",
        "l = len(keyList)\n",
        "l\n"
      ],
      "metadata": {
        "colab": {
          "base_uri": "https://localhost:8080/"
        },
        "id": "_nS-JjGF9o9x",
        "outputId": "fa450bae-5e5a-45cc-c33f-903dd71889bf"
      },
      "execution_count": 10,
      "outputs": [
        {
          "output_type": "stream",
          "name": "stdout",
          "text": [
            "{'\"': 0, '\"Hey': 1, '\"It\\'s': 2, '\"Lose': 3, '\"Oh,': 4, \"'Cause\": 5, \"'cause\": 6, \"'em\": 7, '(J.J.': 8, 'Doc': 9, 'Fab,': 10, 'Fad)': 11, 'For': 12, 'How': 13, 'I': 14, \"I'm\": 15, \"I'ma\": 16, 'Innovative': 17, 'J': 18, 'Lyrics': 19, 'Never': 20, 'Ray': 21, 'So': 22, 'The': 23, 'Throw': 24, 'Uh,': 25, 'Well,': 26, 'What': 27, 'With': 28, 'You': 29, 'Yourself\"': 30, 'a': 31, 'and': 32, 'anything': 33, 'are': 34, \"assumin'\": 35, 'at': 36, 'audience': 37, 'be': 38, 'can': 39, 'celebrating': 40, \"comin'\": 41, 'confuse': 42, 'day': 43, 'day,': 44, 'demonstrating': 45, 'devastating,': 46, 'do': 47, 'dooma-lumma,': 48, 'elevating': 49, 'elevator': 50, 'ever': 51, 'fading,': 52, 'feeling': 53, 'fell': 54, 'forever': 55, 'found': 56, 'fuse': 57, 'get': 58, 'give': 59, 'glue': 60, 'gotta': 61, 'haters': 62, \"he's\": 63, 'hella': 64, 'hip-hop,': 65, 'human': 66, 'is': 67, 'it': 68, \"it'll\": 69, \"it's\": 70, 'jealous,': 71, 'kill': 72, 'know': 73, 'levitating': 74, 'like': 75, 'lose': 76, 'made': 77, 'mainstream\"': 78, 'make': 79, 'me,': 80, 'more': 81, \"motherfuckin'\": 82, 'motivated': 83, 'music': 84, 'music,': 85, 'next': 86, 'not': 87, 'of': 88, 'off': 89, 'off,': 90, 'on': 91, 'pop,': 92, 'radio': 93, 'rap': 94, \"ricochetin'\": 95, 'rock,': 96, 'rubber': 97, 'say': 98, 'shock': 99, 'so': 100, 'speed': 101, 'station': 102, 'straight': 103, 'summa-lumma,': 104, 'superhuman?': 105, 'supersonic': 106, 'than': 107, 'that': 108, \"that's\": 109, 'the': 110, 'they': 111, \"they'll\": 112, 'through': 113, 'to': 114, 'too': 115, 'very': 116, 'waiting': 117, 'way': 118, 'went': 119, 'what': 120, 'when': 121, 'with': 122, 'you': 123, 'you!\"': 124}\n",
            "{0: 'So', 1: 'Ray', 2: 'J', 3: 'went', 4: 'straight', 5: 'to', 6: 'the', 7: 'radio', 8: 'station', 9: 'The', 10: 'very', 11: 'next', 12: 'day,', 13: '\"Hey', 14: 'Fab,', 15: \"I'ma\", 16: 'kill', 17: 'you!\"', 18: 'Lyrics', 19: \"comin'\", 20: 'at', 21: 'you', 22: 'at', 23: 'supersonic', 24: 'speed', 25: '(J.J.', 26: 'Fad)', 27: 'Uh,', 28: 'summa-lumma,', 29: 'dooma-lumma,', 30: 'you', 31: \"assumin'\", 32: \"I'm\", 33: 'a', 34: 'human', 35: 'What', 36: 'I', 37: 'gotta', 38: 'do', 39: 'to', 40: 'get', 41: 'it', 42: 'through', 43: 'to', 44: 'you', 45: \"I'm\", 46: 'superhuman?', 47: 'Innovative', 48: 'and', 49: \"I'm\", 50: 'made', 51: 'of', 52: 'rubber', 53: 'so', 54: 'that', 55: 'anything', 56: 'You', 57: 'say', 58: 'is', 59: \"ricochetin'\", 60: 'off', 61: 'of', 62: 'me,', 63: 'and', 64: \"it'll\", 65: 'glue', 66: 'to', 67: 'you', 68: 'and', 69: \"I'm\", 70: 'devastating,', 71: 'more', 72: 'than', 73: 'ever', 74: 'demonstrating', 75: 'How', 76: 'to', 77: 'give', 78: 'a', 79: \"motherfuckin'\", 80: 'audience', 81: 'a', 82: 'feeling', 83: 'like', 84: \"it's\", 85: 'levitating', 86: 'Never', 87: 'fading,', 88: 'and', 89: 'I', 90: 'know', 91: 'the', 92: 'haters', 93: 'are', 94: 'forever', 95: 'waiting', 96: 'For', 97: 'the', 98: 'day', 99: 'that', 100: 'they', 101: 'can', 102: 'say', 103: 'I', 104: 'fell', 105: 'off,', 106: \"they'll\", 107: 'be', 108: 'celebrating', 109: \"'Cause\", 110: 'I', 111: 'know', 112: 'the', 113: 'way', 114: 'to', 115: 'get', 116: \"'em\", 117: 'motivated', 118: 'I', 119: 'make', 120: 'elevating', 121: 'music,', 122: 'you', 123: 'make', 124: 'elevator', 125: 'music', 126: '\"Oh,', 127: \"he's\", 128: 'too', 129: 'mainstream\"', 130: 'Well,', 131: \"that's\", 132: 'what', 133: 'they', 134: 'do', 135: 'when', 136: 'they', 137: 'get', 138: 'jealous,', 139: 'they', 140: 'confuse', 141: 'it', 142: '\"It\\'s', 143: 'not', 144: 'hip-hop,', 145: \"it's\", 146: 'pop,', 147: '\"', 148: \"'cause\", 149: 'I', 150: 'found', 151: 'a', 152: 'hella', 153: 'way', 154: 'to', 155: 'fuse', 156: 'it', 157: 'With', 158: 'rock,', 159: 'shock', 160: 'rap', 161: 'with', 162: 'Doc', 163: 'Throw', 164: 'on', 165: '\"Lose', 166: 'Yourself\"', 167: 'and', 168: 'make', 169: \"'em\", 170: 'lose', 171: 'it'}\n",
            "[0, 1, 2, 3, 4, 5, 6, 7, 8, 9, 10, 11, 12, 13, 14, 15, 16, 17, 18, 19, 20, 21, 22, 23, 24, 25, 26, 27, 28, 29, 30, 31, 32, 33, 34, 35, 36, 37, 38, 39, 40, 41, 42, 43, 44, 45, 46, 47, 48, 49, 50, 51, 52, 53, 54, 55, 56, 57, 58, 59, 60, 61, 62, 63, 64, 65, 66, 67, 68, 69, 70, 71, 72, 73, 74, 75, 76, 77, 78, 79, 80, 81, 82, 83, 84, 85, 86, 87, 88, 89, 90, 91, 92, 93, 94, 95, 96, 97, 98, 99, 100, 101, 102, 103, 104, 105, 106, 107, 108, 109, 110, 111, 112, 113, 114, 115, 116, 117, 118, 119, 120, 121, 122, 123, 124, 125, 126, 127, 128, 129, 130, 131, 132, 133, 134, 135, 136, 137, 138, 139, 140, 141, 142, 143, 144, 145, 146, 147, 148, 149, 150, 151, 152, 153, 154, 155, 156, 157, 158, 159, 160, 161, 162, 163, 164, 165, 166, 167, 168, 169, 170, 171]\n"
          ]
        },
        {
          "output_type": "execute_result",
          "data": {
            "text/plain": [
              "172"
            ]
          },
          "metadata": {},
          "execution_count": 10
        }
      ]
    },
    {
      "cell_type": "code",
      "source": [
        "# scaled dot product attention\n",
        "# 3 matrices, Q -> query matrix\n",
        "# K -> Key matrix\n",
        "# V -> value matrix\n",
        "# T is the length of the sequence\n",
        "import math\n",
        "import numpy as np \n",
        "import torch.nn.functional  as F\n",
        "import torch\n",
        "\n",
        "def scaled_dot_product(q, k, v, mask=None):\n",
        "    d_k = q.size()[-1]\n",
        "    attn_logits = torch.matmul(q, k.transpose(-2, -1))\n",
        "    attn_logits = attn_logits / math.sqrt(d_k)\n",
        "    if mask is not None:\n",
        "        attn_logits = attn_logits.masked_fill(mask == 0, -9e15)\n",
        "    attention = F.softmax(attn_logits, dim=-1)\n",
        "    values = torch.matmul(attention, v)\n",
        "    return values, attention"
      ],
      "metadata": {
        "id": "aFiuKJk29oTJ"
      },
      "execution_count": 11,
      "outputs": []
    },
    {
      "cell_type": "markdown",
      "source": [
        "Dk and Dv\n",
        " are the hidden dimensionality for queries/keys and values respectively"
      ],
      "metadata": {
        "id": "py-vXvCwGjry"
      }
    },
    {
      "cell_type": "code",
      "source": [
        "\n",
        "import torch\n",
        "chars = sorted(list(set(words)))\n",
        "print(chars)\n",
        "size = len(chars) # sequence length\n",
        "print(size)\n",
        "\n",
        "\n",
        "d_k = 1\n",
        "\n",
        "torch.manual_seed(1337)\n",
        "q = torch.randn(size, d_k)\n",
        "k = torch.randn(size , d_k)\n",
        "v = torch.randn(size, d_k)\n",
        "values, attention = scaled_dot_product(q, k, v)\n",
        "# print(\"Q\\n\", q)\n",
        "# print(\"K\\n\", k)\n",
        "# print(\"V\\n\", v)\n",
        "print(\"Values\\n\", values[:n])\n",
        "print(\"Attention\\n\", attention[:n])\n",
        "# p = torch.Tensor(values)\n",
        "# p\n",
        "\n"
      ],
      "metadata": {
        "colab": {
          "base_uri": "https://localhost:8080/"
        },
        "id": "jKxcaZJ1FWri",
        "outputId": "65eff3a7-a302-4e4b-a643-639e4c641945"
      },
      "execution_count": 14,
      "outputs": [
        {
          "output_type": "stream",
          "name": "stdout",
          "text": [
            "['\"', '\"Hey', '\"It\\'s', '\"Lose', '\"Oh,', \"'Cause\", \"'cause\", \"'em\", '(J.J.', 'Doc', 'Fab,', 'Fad)', 'For', 'How', 'I', \"I'm\", \"I'ma\", 'Innovative', 'J', 'Lyrics', 'Never', 'Ray', 'So', 'The', 'Throw', 'Uh,', 'Well,', 'What', 'With', 'You', 'Yourself\"', 'a', 'and', 'anything', 'are', \"assumin'\", 'at', 'audience', 'be', 'can', 'celebrating', \"comin'\", 'confuse', 'day', 'day,', 'demonstrating', 'devastating,', 'do', 'dooma-lumma,', 'elevating', 'elevator', 'ever', 'fading,', 'feeling', 'fell', 'forever', 'found', 'fuse', 'get', 'give', 'glue', 'gotta', 'haters', \"he's\", 'hella', 'hip-hop,', 'human', 'is', 'it', \"it'll\", \"it's\", 'jealous,', 'kill', 'know', 'levitating', 'like', 'lose', 'made', 'mainstream\"', 'make', 'me,', 'more', \"motherfuckin'\", 'motivated', 'music', 'music,', 'next', 'not', 'of', 'off', 'off,', 'on', 'pop,', 'radio', 'rap', \"ricochetin'\", 'rock,', 'rubber', 'say', 'shock', 'so', 'speed', 'station', 'straight', 'summa-lumma,', 'superhuman?', 'supersonic', 'than', 'that', \"that's\", 'the', 'they', \"they'll\", 'through', 'to', 'too', 'very', 'waiting', 'way', 'went', 'what', 'when', 'with', 'you', 'you!\"']\n",
            "125\n",
            "Values\n",
            " tensor([[-0.0559],\n",
            "        [-0.0290],\n",
            "        [-0.0227],\n",
            "        [-0.1031],\n",
            "        [-0.1290],\n",
            "        [-0.0373],\n",
            "        [-0.1786],\n",
            "        [-0.0414],\n",
            "        [-0.0836],\n",
            "        [-0.1994],\n",
            "        [-0.2547],\n",
            "        [-0.0319],\n",
            "        [-0.0638],\n",
            "        [-0.0216],\n",
            "        [-0.1047],\n",
            "        [-0.2081],\n",
            "        [-0.2081],\n",
            "        [-0.0248],\n",
            "        [-0.0714],\n",
            "        [-0.1799],\n",
            "        [-0.6177],\n",
            "        [-0.1060],\n",
            "        [-0.2091],\n",
            "        [-0.1230],\n",
            "        [-0.0487],\n",
            "        [-0.3543],\n",
            "        [-0.1793],\n",
            "        [-0.0220],\n",
            "        [-0.0982],\n",
            "        [-0.0762],\n",
            "        [-0.2085],\n",
            "        [-0.1171],\n",
            "        [-0.0507],\n",
            "        [-0.0215],\n",
            "        [-0.1850],\n",
            "        [-0.0481],\n",
            "        [-0.0529],\n",
            "        [-0.1969],\n",
            "        [-0.1771],\n",
            "        [-0.0215],\n",
            "        [-0.0316],\n",
            "        [-0.1054],\n",
            "        [-0.1153],\n",
            "        [-0.3209],\n",
            "        [-0.1962],\n",
            "        [-0.1197],\n",
            "        [-0.0414],\n",
            "        [-0.0556],\n",
            "        [-0.2046],\n",
            "        [-0.0765],\n",
            "        [-0.2081],\n",
            "        [-0.0214],\n",
            "        [-0.3287],\n",
            "        [-0.1665],\n",
            "        [-0.0850],\n",
            "        [-0.4510],\n",
            "        [-0.2093],\n",
            "        [-0.3284],\n",
            "        [-0.1604],\n",
            "        [-0.0222],\n",
            "        [-0.1540],\n",
            "        [-0.2083],\n",
            "        [-0.2061],\n",
            "        [-0.0244],\n",
            "        [-0.0834],\n",
            "        [-0.1242],\n",
            "        [-0.0304],\n",
            "        [-0.0294]])\n",
            "Attention\n",
            " tensor([[0.0081, 0.0078, 0.0066,  ..., 0.0074, 0.0068, 0.0059],\n",
            "        [0.0079, 0.0080, 0.0085,  ..., 0.0082, 0.0085, 0.0089],\n",
            "        [0.0070, 0.0075, 0.0106,  ..., 0.0084, 0.0100, 0.0132],\n",
            "        ...,\n",
            "        [0.0071, 0.0064, 0.0036,  ..., 0.0052, 0.0039, 0.0025],\n",
            "        [0.0079, 0.0080, 0.0084,  ..., 0.0081, 0.0083, 0.0087],\n",
            "        [0.0079, 0.0080, 0.0085,  ..., 0.0082, 0.0084, 0.0088]])\n"
          ]
        }
      ]
    }
  ]
}