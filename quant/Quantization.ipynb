{
  "nbformat": 4,
  "nbformat_minor": 0,
  "metadata": {
    "colab": {
      "provenance": [],
      "gpuType": "T4",
      "authorship_tag": "ABX9TyMa7m1bbHjaWEahm6juB5N9",
      "include_colab_link": true
    },
    "kernelspec": {
      "name": "python3",
      "display_name": "Python 3"
    },
    "language_info": {
      "name": "python"
    },
    "accelerator": "GPU"
  },
  "cells": [
    {
      "cell_type": "markdown",
      "metadata": {
        "id": "view-in-github",
        "colab_type": "text"
      },
      "source": [
        "<a href=\"https://colab.research.google.com/github/soumyadip1995/BabyGPT/blob/main/quant/Quantization.ipynb\" target=\"_parent\"><img src=\"https://colab.research.google.com/assets/colab-badge.svg\" alt=\"Open In Colab\"/></a>"
      ]
    },
    {
      "cell_type": "markdown",
      "source": [
        "In the BabyGPTmodel, the parametres has been changed to make use of quantization as given by the pytorch model. For this notebook , we currently have about 3.22M parametres."
      ],
      "metadata": {
        "id": "yDIk8Tae2xk4"
      }
    },
    {
      "cell_type": "code",
      "source": [
        "import torch\n",
        "import torch.nn as nn\n",
        "from torch.nn import functional as F\n",
        "import math\n",
        "from dataclasses import dataclass\n",
        "from typing import Optional\n",
        "\n",
        "# hyperparameters\n",
        "\n",
        "@dataclass\n",
        "class GPTConfig:\n",
        "    # these are default GPT-2 hyperparameters\n",
        "    block_size: int = 1024\n",
        "    vocab_size: int = 50304\n",
        "    n_layer: int = 12\n",
        "    n_head: int = 12\n",
        "    n_embd: int = 768\n",
        "    bias :bool = False\n",
        "    device: bool =  0\n",
        "\n",
        "\n",
        "\n",
        "\n",
        "### other hyperparametres\n",
        "batch_size = 16\n",
        "max_iters = 5000\n",
        "learning_rate = 3e-4\n",
        "device = 'cuda' if torch.cuda.is_available() else 'cpu'\n",
        "eval_interval = 500\n",
        "eval_iters = 200\n",
        "dropout = 0.2\n",
        "\n",
        "\n",
        "torch.manual_seed(1337)\n",
        "\n",
        "\n",
        "words = open(r\"/content/ALL_eminem.txt\", 'r', encoding='utf-8').read()\n",
        "\n",
        "\n",
        "chars = sorted(list(set(words)))\n",
        "vocab_size = len(chars)\n",
        "\n",
        "\n",
        "string2integer = {ch: i for i, ch in enumerate(chars)}\n",
        "integer2string = {i:ch for ch,i in string2integer.items()}\n",
        "encode = lambda s: [string2integer[c] for c in s]\n",
        "decode = lambda l: ''.join([integer2string[i] for i in l])\n",
        "data = torch.tensor(encode(words), dtype = torch.long)\n",
        "\n",
        "\n",
        "## train and split the data\n",
        "n = int(0.8*len(data))\n",
        "train_data = data[:n]\n",
        "val_data = data[n:]\n",
        "\n",
        "# data loading\n",
        "def get_batch(split):\n",
        "    # generate a small batch of data of inputs x and targets y\n",
        "    data = train_data if split == 'train' else val_data\n",
        "    ix = torch.randint(len(data) - config.block_size, (batch_size,))\n",
        "    x = torch.stack([data[i:i+ config.block_size] for i in ix])\n",
        "    y = torch.stack([data[i+1:i+ config.block_size+1] for i in ix])\n",
        "    x, y = x.to(device), y.to(device)\n",
        "    return x, y\n",
        "\n",
        "\n",
        "### from pytorch GPT tutorial\n",
        "@torch.no_grad()\n",
        "def estimate_loss():\n",
        "    out = {}\n",
        "    model.eval()\n",
        "    for split in ['train', 'val']:\n",
        "        losses = torch.zeros(eval_iters)\n",
        "        for k in range(eval_iters):\n",
        "            X, Y = get_batch(split)\n",
        "            logits, loss = model(X, Y)\n",
        "            losses[k] = loss.item()\n",
        "        out[split] = losses.mean()\n",
        "    model.train()\n",
        "    return out\n",
        "\n",
        "\n",
        "torch.manual_seed(1337)\n",
        "class Attention(nn.Module):\n",
        "  def __init__(self, config):\n",
        "    super(Attention, self).__init__()\n",
        "\n",
        "    assert config.n_embd % config.n_head == 0\n",
        "\n",
        "    self.atten = nn.Linear(config.n_embd, 3 * config.n_embd, bias=config.bias)\n",
        "    self.projection = nn.Linear(config.n_embd, config.n_embd, bias=config.bias)\n",
        "    self.n_head = config.n_head\n",
        "    self.n_embd = config.n_embd\n",
        "    self.register_buffer('tril', torch.tril(torch.ones(config.block_size, config.block_size)))\n",
        "\n",
        "  def forward(self, x):\n",
        "    B,T,C = x.size()\n",
        "    q, k ,v  = self.atten(x).split(self.n_embd, dim=2)\n",
        "    q = q.view(B, T, self.n_head, C // self.n_head).transpose(1, 2)\n",
        "    k = k.view(B, T, self.n_head, C // self.n_head).transpose(1, 2)\n",
        "    v = v.view(B, T, self.n_head, C // self.n_head).transpose(1, 2)\n",
        "\n",
        "\n",
        "    # manual implementation of attention\n",
        "    # from karpathy\n",
        "    att = (q @ k.transpose(-2, -1)) * (1.0 / math.sqrt(k.size(-1)))\n",
        "    att = att.masked_fill(self.tril[:T, :T] == 0, float('-inf'))\n",
        "    att = F.softmax(att, dim=-1)\n",
        "    y = att @ v # (B, nh, T, T) x (B, nh, T, hs) -> (B, nh, T, hs)\n",
        "    y = y.transpose(1, 2).contiguous().view(B, T, C) # re-assemble all head outputs side by side\n",
        "\n",
        "    # output projection\n",
        "    y = self.projection(y)\n",
        "    return y\n",
        "\n",
        "dropout = 0.2\n",
        "class FeedForward(nn.Module):\n",
        "  def __init__(self,config):\n",
        "    super(FeedForward, self).__init__()\n",
        "    self.net = nn.Sequential(nn.Linear(config.n_embd, 4 * config.n_embd, bias=config.bias),\n",
        "    nn.Linear(4 * config.n_embd, config.n_embd, bias=config.bias),\n",
        "    nn.GELU(),\n",
        "    nn.Dropout(dropout))\n",
        "\n",
        "  def forward(self, x):\n",
        "    return self.net(x)\n",
        "\n",
        "### A simple Transformer Block\n",
        "class Transformer(nn.Module):\n",
        "  def __init__(self,config):\n",
        "    super(Transformer, self).__init__()\n",
        "    self.attention = Attention(config)\n",
        "    self.feed_forward = FeedForward(config)\n",
        "    self.layer_norm_1 = nn.LayerNorm(config.n_embd)\n",
        "    self.layer_norm_2 = nn.LayerNorm(config.n_embd)\n",
        "\n",
        "  def forward(self, x):\n",
        "\n",
        "    x = x + self.attention(self.layer_norm_1(x))\n",
        "    x = x + self.feed_forward(self.layer_norm_2(x))\n",
        "    return x\n",
        "\n",
        "\n",
        "class BabyGPTmodel(nn.Module):\n",
        "\n",
        "    def __init__(self, config):\n",
        "        super(BabyGPTmodel, self).__init__()\n",
        "\n",
        "        assert config.vocab_size is not None\n",
        "        assert config.block_size is not None\n",
        "\n",
        "        self.config = config\n",
        "        self.token = nn.Embedding(config.vocab_size, config.n_embd)\n",
        "        self.positional_embeddings = nn.Embedding(config.block_size, config.n_embd)\n",
        "        self.blocks = nn.Sequential(*[Transformer(config) for _ in range(config.n_layer)])\n",
        "        self.ln_f = nn.LayerNorm(config.n_embd, eps = 1e-12) # final layer norm\n",
        "        self.lnum_heads = nn.Linear(config.n_embd, config.vocab_size)\n",
        "\n",
        "        ## init all weights\n",
        "        ## from karpathy\n",
        "        self.apply(self._init_weights)\n",
        "        for pn, p in self.named_parameters():\n",
        "          if pn.endswith('projection.weight'):\n",
        "            torch.nn.init.normal_(p, mean=0.0, std=0.02/math.sqrt(2 * config.n_layer))\n",
        "\n",
        "        # report number of parameters\n",
        "        print(\"number of parameters: %d\" % (sum(p.nelement() for p in self.parameters()),))\n",
        "\n",
        "    def _init_weights(self, module):\n",
        "        if isinstance(module, nn.Linear):\n",
        "            torch.nn.init.normal_(module.weight, mean=0.0, std=0.02 / math.sqrt(2 * config.n_layer))\n",
        "            if module.bias is not None:\n",
        "                torch.nn.init.zeros_(module.bias)\n",
        "        elif isinstance(module, nn.Embedding):\n",
        "            torch.nn.init.normal_(module.weight, mean=0.0, std=0.02 / math.sqrt(2 * config.n_layer))\n",
        "\n",
        "    def forward(self, idx, targets=None):\n",
        "        device = idx.device\n",
        "        B, T = idx.shape\n",
        "        tok_emb = self.token(idx)\n",
        "        position_ids = torch.arange(0, T, dtype = torch.long, device = device).unsqueeze(0)\n",
        "        pos_emb =  self.positional_embeddings(position_ids)\n",
        "        x = tok_emb + pos_emb\n",
        "        for block in self.blocks:\n",
        "          x = self.blocks(x)\n",
        "        x = self.ln_f(x)\n",
        "        logits = self.lnum_heads(x)\n",
        "\n",
        "        if targets is None:\n",
        "            loss = None\n",
        "        else:\n",
        "            B, T, C = logits.shape\n",
        "            logits = logits.view(B*T, C)\n",
        "            targets = targets.view(B*T)\n",
        "            loss = F.cross_entropy(logits, targets)\n",
        "\n",
        "        return logits, loss\n",
        "\n",
        "\n",
        "    ## from karpathy's youtube videos.\n",
        "    def generate(self, idx, max_new_tokens):\n",
        "        # idx is (B, T) array of indices in the current context\n",
        "        for _ in range(max_new_tokens):\n",
        "            # crop idx to the last block_size tokens\n",
        "            idx_cond = idx[:, -config.block_size:]\n",
        "            # get the predictions\n",
        "            logits, loss = self(idx_cond)\n",
        "            # focus only on the last time step\n",
        "            logits = logits[:, -1, :] # becomes (B, C)\n",
        "            # apply softmax to get probabilities\n",
        "            probs = F.softmax(logits, dim=-1) # (B, C)\n",
        "            # sample from the distribution\n",
        "            idx_next = torch.multinomial(probs, num_samples=1) # (B, 1)\n",
        "            # append sampled index to the running sequence\n",
        "            idx = torch.cat((idx, idx_next), dim=1) # (B, T+1)\n",
        "        return idx\n",
        "\n",
        "\n",
        "config = GPTConfig(\n",
        "    block_size = 64,\n",
        "    vocab_size = len(chars),\n",
        "    n_head = 4,\n",
        "    n_layer = 4,\n",
        "    n_embd = 256)\n",
        "\n",
        "model = BabyGPTmodel(config)\n",
        "\n",
        "m = model.to(device)\n",
        "\n",
        "# create a PyTorch optimizer\n",
        "optimizer = torch.optim.AdamW(model.parameters(), lr=learning_rate)\n",
        "\n",
        "\n",
        "# Print model's state_dict\n",
        "print(\"Model's state_dict:\")\n",
        "for param_tensor in model.state_dict():\n",
        "    print(param_tensor, \"\\t\", model.state_dict()[param_tensor].size())\n",
        "\n",
        "# Print optimizer's state_dict\n",
        "print(\"Optimizer's state_dict:\")\n",
        "for var_name in optimizer.state_dict():\n",
        "    print(var_name, \"\\t\", optimizer.state_dict()[var_name])\n",
        "\n",
        "\n",
        "\n",
        "for iter in range(max_iters):\n",
        "\n",
        "    # every once in a while evaluate the loss on train and val sets\n",
        "    if iter % eval_interval == 0 or iter == max_iters - 1:\n",
        "        losses = estimate_loss()\n",
        "        print(f\"step {iter}: train loss {losses['train']:.4f}, val loss {losses['val']:.4f}\")\n",
        "\n",
        "    # sample a batch of data\n",
        "    xb, yb = get_batch('train')\n",
        "\n",
        "    # evaluate the loss\n",
        "    logits, loss = model(xb, yb)\n",
        "    optimizer.zero_grad(set_to_none=True)\n",
        "    loss.backward()\n",
        "    optimizer.step()\n",
        "\n",
        "# generate from the model\n",
        "context = torch.zeros((1, 1), dtype=torch.long, device=device)\n",
        "print(decode(m.generate(context, max_new_tokens=500)[0].tolist()))\n",
        "\n",
        "torch.save(model.state_dict(), '/content/model.pth')\n",
        "\n",
        "\n",
        "model.load_state_dict(torch.load('/content/model.pth'))\n",
        "print(model.eval())"
      ],
      "metadata": {
        "colab": {
          "base_uri": "https://localhost:8080/"
        },
        "id": "GxdpkM_-byv1",
        "outputId": "674434c1-3c93-41dc-f33e-22089e5a7ed2"
      },
      "execution_count": 1,
      "outputs": [
        {
          "output_type": "stream",
          "name": "stdout",
          "text": [
            "number of parameters: 3222637\n",
            "Model's state_dict:\n",
            "token.weight \t torch.Size([109, 256])\n",
            "positional_embeddings.weight \t torch.Size([64, 256])\n",
            "blocks.0.attention.tril \t torch.Size([64, 64])\n",
            "blocks.0.attention.atten.weight \t torch.Size([768, 256])\n",
            "blocks.0.attention.projection.weight \t torch.Size([256, 256])\n",
            "blocks.0.feed_forward.net.0.weight \t torch.Size([1024, 256])\n",
            "blocks.0.feed_forward.net.1.weight \t torch.Size([256, 1024])\n",
            "blocks.0.layer_norm_1.weight \t torch.Size([256])\n",
            "blocks.0.layer_norm_1.bias \t torch.Size([256])\n",
            "blocks.0.layer_norm_2.weight \t torch.Size([256])\n",
            "blocks.0.layer_norm_2.bias \t torch.Size([256])\n",
            "blocks.1.attention.tril \t torch.Size([64, 64])\n",
            "blocks.1.attention.atten.weight \t torch.Size([768, 256])\n",
            "blocks.1.attention.projection.weight \t torch.Size([256, 256])\n",
            "blocks.1.feed_forward.net.0.weight \t torch.Size([1024, 256])\n",
            "blocks.1.feed_forward.net.1.weight \t torch.Size([256, 1024])\n",
            "blocks.1.layer_norm_1.weight \t torch.Size([256])\n",
            "blocks.1.layer_norm_1.bias \t torch.Size([256])\n",
            "blocks.1.layer_norm_2.weight \t torch.Size([256])\n",
            "blocks.1.layer_norm_2.bias \t torch.Size([256])\n",
            "blocks.2.attention.tril \t torch.Size([64, 64])\n",
            "blocks.2.attention.atten.weight \t torch.Size([768, 256])\n",
            "blocks.2.attention.projection.weight \t torch.Size([256, 256])\n",
            "blocks.2.feed_forward.net.0.weight \t torch.Size([1024, 256])\n",
            "blocks.2.feed_forward.net.1.weight \t torch.Size([256, 1024])\n",
            "blocks.2.layer_norm_1.weight \t torch.Size([256])\n",
            "blocks.2.layer_norm_1.bias \t torch.Size([256])\n",
            "blocks.2.layer_norm_2.weight \t torch.Size([256])\n",
            "blocks.2.layer_norm_2.bias \t torch.Size([256])\n",
            "blocks.3.attention.tril \t torch.Size([64, 64])\n",
            "blocks.3.attention.atten.weight \t torch.Size([768, 256])\n",
            "blocks.3.attention.projection.weight \t torch.Size([256, 256])\n",
            "blocks.3.feed_forward.net.0.weight \t torch.Size([1024, 256])\n",
            "blocks.3.feed_forward.net.1.weight \t torch.Size([256, 1024])\n",
            "blocks.3.layer_norm_1.weight \t torch.Size([256])\n",
            "blocks.3.layer_norm_1.bias \t torch.Size([256])\n",
            "blocks.3.layer_norm_2.weight \t torch.Size([256])\n",
            "blocks.3.layer_norm_2.bias \t torch.Size([256])\n",
            "ln_f.weight \t torch.Size([256])\n",
            "ln_f.bias \t torch.Size([256])\n",
            "lnum_heads.weight \t torch.Size([109, 256])\n",
            "lnum_heads.bias \t torch.Size([109])\n",
            "Optimizer's state_dict:\n",
            "state \t {}\n",
            "param_groups \t [{'lr': 0.0003, 'betas': (0.9, 0.999), 'eps': 1e-08, 'weight_decay': 0.01, 'amsgrad': False, 'foreach': None, 'maximize': False, 'capturable': False, 'differentiable': False, 'fused': None, 'params': [0, 1, 2, 3, 4, 5, 6, 7, 8, 9, 10, 11, 12, 13, 14, 15, 16, 17, 18, 19, 20, 21, 22, 23, 24, 25, 26, 27, 28, 29, 30, 31, 32, 33, 34, 35, 36, 37]}]\n",
            "step 0: train loss 4.7044, val loss 4.7039\n",
            "step 500: train loss 2.4050, val loss 2.4066\n",
            "step 1000: train loss 2.1525, val loss 2.1590\n",
            "step 1500: train loss 2.0004, val loss 2.0214\n",
            "step 2000: train loss 1.9154, val loss 1.9445\n",
            "step 2500: train loss 1.8420, val loss 1.8864\n",
            "step 3000: train loss 1.8051, val loss 1.8425\n",
            "step 3500: train loss 1.7649, val loss 1.8072\n",
            "step 4000: train loss 1.7198, val loss 1.7729\n",
            "step 4500: train loss 1.6973, val loss 1.7523\n",
            "step 4999: train loss 1.6580, val loss 1.7185\n",
            "\n",
            "God corum you gon' dus sure bad in a droppagiffer to subart\n",
            "And myfully shooinin, willof's I'm a have the bounad in homa\n",
            "Like neell the take it's up and I gillen hole folive it tound\n",
            "\n",
            "MutHe bongrity choke ass ortaster mittle (Oh-Ah) pack ooh a listent, a glesta little Modea\n",
            "\n",
            "I need and I rosh on on this pit\n",
            "A corne blicked jusnors on of a untuders?\n",
            "So I can't regnand to just a smuch time night, be caugh\n",
            "Tire in 'He trouco this man I fah it\n",
            "Won't behmore, your to thile garmes you out and nobdaber\n",
            "BabyGPTmodel(\n",
            "  (token): Embedding(109, 256)\n",
            "  (positional_embeddings): Embedding(64, 256)\n",
            "  (blocks): Sequential(\n",
            "    (0): Transformer(\n",
            "      (attention): Attention(\n",
            "        (atten): Linear(in_features=256, out_features=768, bias=False)\n",
            "        (projection): Linear(in_features=256, out_features=256, bias=False)\n",
            "      )\n",
            "      (feed_forward): FeedForward(\n",
            "        (net): Sequential(\n",
            "          (0): Linear(in_features=256, out_features=1024, bias=False)\n",
            "          (1): Linear(in_features=1024, out_features=256, bias=False)\n",
            "          (2): GELU(approximate='none')\n",
            "          (3): Dropout(p=0.2, inplace=False)\n",
            "        )\n",
            "      )\n",
            "      (layer_norm_1): LayerNorm((256,), eps=1e-05, elementwise_affine=True)\n",
            "      (layer_norm_2): LayerNorm((256,), eps=1e-05, elementwise_affine=True)\n",
            "    )\n",
            "    (1): Transformer(\n",
            "      (attention): Attention(\n",
            "        (atten): Linear(in_features=256, out_features=768, bias=False)\n",
            "        (projection): Linear(in_features=256, out_features=256, bias=False)\n",
            "      )\n",
            "      (feed_forward): FeedForward(\n",
            "        (net): Sequential(\n",
            "          (0): Linear(in_features=256, out_features=1024, bias=False)\n",
            "          (1): Linear(in_features=1024, out_features=256, bias=False)\n",
            "          (2): GELU(approximate='none')\n",
            "          (3): Dropout(p=0.2, inplace=False)\n",
            "        )\n",
            "      )\n",
            "      (layer_norm_1): LayerNorm((256,), eps=1e-05, elementwise_affine=True)\n",
            "      (layer_norm_2): LayerNorm((256,), eps=1e-05, elementwise_affine=True)\n",
            "    )\n",
            "    (2): Transformer(\n",
            "      (attention): Attention(\n",
            "        (atten): Linear(in_features=256, out_features=768, bias=False)\n",
            "        (projection): Linear(in_features=256, out_features=256, bias=False)\n",
            "      )\n",
            "      (feed_forward): FeedForward(\n",
            "        (net): Sequential(\n",
            "          (0): Linear(in_features=256, out_features=1024, bias=False)\n",
            "          (1): Linear(in_features=1024, out_features=256, bias=False)\n",
            "          (2): GELU(approximate='none')\n",
            "          (3): Dropout(p=0.2, inplace=False)\n",
            "        )\n",
            "      )\n",
            "      (layer_norm_1): LayerNorm((256,), eps=1e-05, elementwise_affine=True)\n",
            "      (layer_norm_2): LayerNorm((256,), eps=1e-05, elementwise_affine=True)\n",
            "    )\n",
            "    (3): Transformer(\n",
            "      (attention): Attention(\n",
            "        (atten): Linear(in_features=256, out_features=768, bias=False)\n",
            "        (projection): Linear(in_features=256, out_features=256, bias=False)\n",
            "      )\n",
            "      (feed_forward): FeedForward(\n",
            "        (net): Sequential(\n",
            "          (0): Linear(in_features=256, out_features=1024, bias=False)\n",
            "          (1): Linear(in_features=1024, out_features=256, bias=False)\n",
            "          (2): GELU(approximate='none')\n",
            "          (3): Dropout(p=0.2, inplace=False)\n",
            "        )\n",
            "      )\n",
            "      (layer_norm_1): LayerNorm((256,), eps=1e-05, elementwise_affine=True)\n",
            "      (layer_norm_2): LayerNorm((256,), eps=1e-05, elementwise_affine=True)\n",
            "    )\n",
            "  )\n",
            "  (ln_f): LayerNorm((256,), eps=1e-12, elementwise_affine=True)\n",
            "  (lnum_heads): Linear(in_features=256, out_features=109, bias=True)\n",
            ")\n"
          ]
        }
      ]
    },
    {
      "cell_type": "code",
      "source": [
        "!pip install transformers"
      ],
      "metadata": {
        "id": "xaVg5h7PdKHH"
      },
      "execution_count": null,
      "outputs": []
    },
    {
      "cell_type": "code",
      "execution_count": 3,
      "metadata": {
        "colab": {
          "base_uri": "https://localhost:8080/"
        },
        "id": "R_L7rey3aaUY",
        "outputId": "ce914639-0f05-4274-df73-d78a14614555"
      },
      "outputs": [
        {
          "output_type": "execute_result",
          "data": {
            "text/plain": [
              "BabyGPTmodel(\n",
              "  (token): Embedding(109, 256)\n",
              "  (positional_embeddings): Embedding(64, 256)\n",
              "  (blocks): Sequential(\n",
              "    (0): Transformer(\n",
              "      (attention): Attention(\n",
              "        (atten): DynamicQuantizedLinear(in_features=256, out_features=768, dtype=torch.qint8, qscheme=torch.per_tensor_affine)\n",
              "        (projection): DynamicQuantizedLinear(in_features=256, out_features=256, dtype=torch.qint8, qscheme=torch.per_tensor_affine)\n",
              "      )\n",
              "      (feed_forward): FeedForward(\n",
              "        (net): Sequential(\n",
              "          (0): DynamicQuantizedLinear(in_features=256, out_features=1024, dtype=torch.qint8, qscheme=torch.per_tensor_affine)\n",
              "          (1): DynamicQuantizedLinear(in_features=1024, out_features=256, dtype=torch.qint8, qscheme=torch.per_tensor_affine)\n",
              "          (2): GELU(approximate='none')\n",
              "          (3): Dropout(p=0.2, inplace=False)\n",
              "        )\n",
              "      )\n",
              "      (layer_norm_1): LayerNorm((256,), eps=1e-05, elementwise_affine=True)\n",
              "      (layer_norm_2): LayerNorm((256,), eps=1e-05, elementwise_affine=True)\n",
              "    )\n",
              "    (1): Transformer(\n",
              "      (attention): Attention(\n",
              "        (atten): DynamicQuantizedLinear(in_features=256, out_features=768, dtype=torch.qint8, qscheme=torch.per_tensor_affine)\n",
              "        (projection): DynamicQuantizedLinear(in_features=256, out_features=256, dtype=torch.qint8, qscheme=torch.per_tensor_affine)\n",
              "      )\n",
              "      (feed_forward): FeedForward(\n",
              "        (net): Sequential(\n",
              "          (0): DynamicQuantizedLinear(in_features=256, out_features=1024, dtype=torch.qint8, qscheme=torch.per_tensor_affine)\n",
              "          (1): DynamicQuantizedLinear(in_features=1024, out_features=256, dtype=torch.qint8, qscheme=torch.per_tensor_affine)\n",
              "          (2): GELU(approximate='none')\n",
              "          (3): Dropout(p=0.2, inplace=False)\n",
              "        )\n",
              "      )\n",
              "      (layer_norm_1): LayerNorm((256,), eps=1e-05, elementwise_affine=True)\n",
              "      (layer_norm_2): LayerNorm((256,), eps=1e-05, elementwise_affine=True)\n",
              "    )\n",
              "    (2): Transformer(\n",
              "      (attention): Attention(\n",
              "        (atten): DynamicQuantizedLinear(in_features=256, out_features=768, dtype=torch.qint8, qscheme=torch.per_tensor_affine)\n",
              "        (projection): DynamicQuantizedLinear(in_features=256, out_features=256, dtype=torch.qint8, qscheme=torch.per_tensor_affine)\n",
              "      )\n",
              "      (feed_forward): FeedForward(\n",
              "        (net): Sequential(\n",
              "          (0): DynamicQuantizedLinear(in_features=256, out_features=1024, dtype=torch.qint8, qscheme=torch.per_tensor_affine)\n",
              "          (1): DynamicQuantizedLinear(in_features=1024, out_features=256, dtype=torch.qint8, qscheme=torch.per_tensor_affine)\n",
              "          (2): GELU(approximate='none')\n",
              "          (3): Dropout(p=0.2, inplace=False)\n",
              "        )\n",
              "      )\n",
              "      (layer_norm_1): LayerNorm((256,), eps=1e-05, elementwise_affine=True)\n",
              "      (layer_norm_2): LayerNorm((256,), eps=1e-05, elementwise_affine=True)\n",
              "    )\n",
              "    (3): Transformer(\n",
              "      (attention): Attention(\n",
              "        (atten): DynamicQuantizedLinear(in_features=256, out_features=768, dtype=torch.qint8, qscheme=torch.per_tensor_affine)\n",
              "        (projection): DynamicQuantizedLinear(in_features=256, out_features=256, dtype=torch.qint8, qscheme=torch.per_tensor_affine)\n",
              "      )\n",
              "      (feed_forward): FeedForward(\n",
              "        (net): Sequential(\n",
              "          (0): DynamicQuantizedLinear(in_features=256, out_features=1024, dtype=torch.qint8, qscheme=torch.per_tensor_affine)\n",
              "          (1): DynamicQuantizedLinear(in_features=1024, out_features=256, dtype=torch.qint8, qscheme=torch.per_tensor_affine)\n",
              "          (2): GELU(approximate='none')\n",
              "          (3): Dropout(p=0.2, inplace=False)\n",
              "        )\n",
              "      )\n",
              "      (layer_norm_1): LayerNorm((256,), eps=1e-05, elementwise_affine=True)\n",
              "      (layer_norm_2): LayerNorm((256,), eps=1e-05, elementwise_affine=True)\n",
              "    )\n",
              "  )\n",
              "  (ln_f): LayerNorm((256,), eps=1e-12, elementwise_affine=True)\n",
              "  (lnum_heads): DynamicQuantizedLinear(in_features=256, out_features=109, dtype=torch.qint8, qscheme=torch.per_tensor_affine)\n",
              ")"
            ]
          },
          "metadata": {},
          "execution_count": 3
        }
      ],
      "source": [
        "import torch.quantization\n",
        "import torch\n",
        "\n",
        "import pandas\n",
        "\n",
        "quantized_model = torch.quantization.quantize_dynamic(model, {torch.nn.Linear}, dtype=torch.qint8)\n",
        "quantized_model.eval()\n",
        "\n"
      ]
    },
    {
      "cell_type": "code",
      "source": [
        "\n",
        "\n",
        "PATH = '/content/model.pth'\n",
        "state = {'model': model.state_dict()}\n",
        "torch.save(state, PATH)\n",
        "model.load_state_dict(torch.load(PATH)['model'])\n",
        "# print weights\n",
        "for k, v in model.named_parameters():\n",
        "\n",
        "  weights = k, v\n",
        "  print(weights)\n",
        "\n",
        "torch.save(model.state_dict(), '/content/model.weight')\n",
        "# model.state_dict()"
      ],
      "metadata": {
        "id": "6ZVlM6zOjZz8",
        "colab": {
          "base_uri": "https://localhost:8080/"
        },
        "outputId": "241b3674-e84a-470a-def6-11fdadc43ff9"
      },
      "execution_count": null,
      "outputs": [
        {
          "output_type": "stream",
          "name": "stdout",
          "text": [
            "('token.weight', Parameter containing:\n",
            "tensor([[ 5.6908e-03, -2.3357e-04, -6.4284e-03,  ..., -1.9942e-04,\n",
            "         -1.1292e-02, -5.0923e-03],\n",
            "        [-4.9706e-03,  3.5929e-03,  4.1638e-03,  ...,  8.6889e-03,\n",
            "         -1.8082e-03, -1.9965e-03],\n",
            "        [-3.5337e-03, -6.4802e-03,  6.8468e-03,  ..., -8.3608e-03,\n",
            "          3.6282e-04, -5.2375e-03],\n",
            "        ...,\n",
            "        [-1.9010e-03, -1.0146e-03,  1.0315e-02,  ..., -2.9134e-03,\n",
            "         -1.0646e-02,  9.3905e-03],\n",
            "        [-4.3435e-03, -3.5550e-03, -1.7325e-03,  ...,  6.7162e-03,\n",
            "          2.6840e-04, -3.2265e-03],\n",
            "        [ 8.6106e-03, -3.6121e-03,  5.9236e-03,  ...,  5.4016e-05,\n",
            "          5.9526e-03, -5.8339e-03]], requires_grad=True))\n",
            "('positional_embeddings.weight', Parameter containing:\n",
            "tensor([[-6.6158e-04,  6.9044e-03,  6.3801e-03,  ...,  4.7792e-03,\n",
            "          2.3892e-03,  4.8075e-03],\n",
            "        [ 3.9956e-03,  2.4353e-03,  5.0919e-03,  ...,  1.5726e-03,\n",
            "         -6.4797e-03,  1.1109e-02],\n",
            "        [ 1.3639e-02,  8.2231e-03, -3.3187e-03,  ...,  2.7549e-05,\n",
            "          6.4511e-03,  5.0283e-03],\n",
            "        ...,\n",
            "        [-4.1210e-03,  2.2178e-03, -1.2939e-02,  ...,  8.4051e-04,\n",
            "          4.9287e-03, -1.0216e-02],\n",
            "        [-6.8790e-04,  1.9715e-04, -7.7806e-03,  ...,  4.3198e-04,\n",
            "          4.7653e-03, -2.8950e-03],\n",
            "        [-9.3580e-03,  1.7194e-03, -2.1347e-03,  ...,  3.9218e-03,\n",
            "          6.0394e-03,  8.0604e-03]], requires_grad=True))\n",
            "('blocks.0.attention.atten.weight', Parameter containing:\n",
            "tensor([[-1.6161e-03,  6.4786e-03,  7.2987e-03,  ..., -1.9619e-03,\n",
            "          5.2246e-03,  1.0726e-02],\n",
            "        [-4.4313e-03, -8.0763e-03, -5.9721e-04,  ..., -6.0893e-04,\n",
            "          3.1235e-03,  3.5808e-03],\n",
            "        [-2.5051e-04,  1.0838e-02,  1.2977e-02,  ...,  1.5346e-02,\n",
            "          9.8944e-03,  1.2139e-03],\n",
            "        ...,\n",
            "        [-2.8682e-03,  4.7685e-04,  7.8249e-04,  ..., -2.7995e-03,\n",
            "          5.7959e-04,  2.1746e-02],\n",
            "        [ 7.3785e-03,  6.0802e-03,  7.0866e-03,  ...,  4.7371e-03,\n",
            "         -1.3105e-02, -1.0272e-03],\n",
            "        [-1.2744e-04,  4.1403e-03, -7.9941e-05,  ...,  1.4372e-02,\n",
            "          2.4245e-03,  1.3510e-02]], requires_grad=True))\n",
            "('blocks.0.attention.projection.weight', Parameter containing:\n",
            "tensor([[-0.0012,  0.0224, -0.0017,  ...,  0.0088,  0.0107,  0.0099],\n",
            "        [-0.0074, -0.0072,  0.0071,  ..., -0.0118,  0.0035,  0.0094],\n",
            "        [ 0.0028, -0.0139,  0.0014,  ...,  0.0087,  0.0090, -0.0082],\n",
            "        ...,\n",
            "        [ 0.0114, -0.0057,  0.0046,  ..., -0.0059, -0.0007,  0.0004],\n",
            "        [ 0.0018, -0.0026, -0.0120,  ..., -0.0014,  0.0062,  0.0007],\n",
            "        [-0.0125, -0.0161,  0.0024,  ...,  0.0025,  0.0023, -0.0071]],\n",
            "       requires_grad=True))\n",
            "('blocks.0.feed_forward.net.0.weight', Parameter containing:\n",
            "tensor([[ 9.0296e-03,  3.7801e-03, -1.0183e-02,  ..., -1.3088e-03,\n",
            "          1.6109e-02, -6.7385e-03],\n",
            "        [-1.1274e-03,  2.7423e-03, -1.0815e-05,  ...,  6.3407e-03,\n",
            "         -1.4520e-02, -4.0926e-03],\n",
            "        [ 8.7699e-03,  7.8395e-04, -4.8040e-03,  ...,  5.6120e-03,\n",
            "          7.8729e-04,  1.3915e-02],\n",
            "        ...,\n",
            "        [-6.8251e-03, -1.3388e-02,  1.2878e-02,  ..., -3.8232e-03,\n",
            "          4.9018e-03,  7.7845e-03],\n",
            "        [ 8.6092e-03, -3.5516e-04,  1.1417e-03,  ...,  1.0873e-02,\n",
            "         -1.2071e-02, -2.3664e-03],\n",
            "        [ 6.2594e-03,  7.5536e-03,  1.8045e-03,  ...,  5.7660e-03,\n",
            "          1.4067e-03, -5.5363e-03]], requires_grad=True))\n",
            "('blocks.0.feed_forward.net.1.weight', Parameter containing:\n",
            "tensor([[-0.0087,  0.0067, -0.0027,  ..., -0.0036,  0.0017, -0.0006],\n",
            "        [ 0.0091, -0.0007,  0.0032,  ...,  0.0012, -0.0032,  0.0043],\n",
            "        [-0.0052,  0.0008,  0.0062,  ..., -0.0084,  0.0026,  0.0030],\n",
            "        ...,\n",
            "        [-0.0037,  0.0116, -0.0139,  ...,  0.0073,  0.0010, -0.0055],\n",
            "        [-0.0064,  0.0001,  0.0029,  ..., -0.0042,  0.0066, -0.0036],\n",
            "        [-0.0036, -0.0048,  0.0103,  ..., -0.0101,  0.0098,  0.0025]],\n",
            "       requires_grad=True))\n",
            "('blocks.0.layer_norm_1.weight', Parameter containing:\n",
            "tensor([1., 1., 1., 1., 1., 1., 1., 1., 1., 1., 1., 1., 1., 1., 1., 1., 1., 1.,\n",
            "        1., 1., 1., 1., 1., 1., 1., 1., 1., 1., 1., 1., 1., 1., 1., 1., 1., 1.,\n",
            "        1., 1., 1., 1., 1., 1., 1., 1., 1., 1., 1., 1., 1., 1., 1., 1., 1., 1.,\n",
            "        1., 1., 1., 1., 1., 1., 1., 1., 1., 1., 1., 1., 1., 1., 1., 1., 1., 1.,\n",
            "        1., 1., 1., 1., 1., 1., 1., 1., 1., 1., 1., 1., 1., 1., 1., 1., 1., 1.,\n",
            "        1., 1., 1., 1., 1., 1., 1., 1., 1., 1., 1., 1., 1., 1., 1., 1., 1., 1.,\n",
            "        1., 1., 1., 1., 1., 1., 1., 1., 1., 1., 1., 1., 1., 1., 1., 1., 1., 1.,\n",
            "        1., 1., 1., 1., 1., 1., 1., 1., 1., 1., 1., 1., 1., 1., 1., 1., 1., 1.,\n",
            "        1., 1., 1., 1., 1., 1., 1., 1., 1., 1., 1., 1., 1., 1., 1., 1., 1., 1.,\n",
            "        1., 1., 1., 1., 1., 1., 1., 1., 1., 1., 1., 1., 1., 1., 1., 1., 1., 1.,\n",
            "        1., 1., 1., 1., 1., 1., 1., 1., 1., 1., 1., 1., 1., 1., 1., 1., 1., 1.,\n",
            "        1., 1., 1., 1., 1., 1., 1., 1., 1., 1., 1., 1., 1., 1., 1., 1., 1., 1.,\n",
            "        1., 1., 1., 1., 1., 1., 1., 1., 1., 1., 1., 1., 1., 1., 1., 1., 1., 1.,\n",
            "        1., 1., 1., 1., 1., 1., 1., 1., 1., 1., 1., 1., 1., 1., 1., 1., 1., 1.,\n",
            "        1., 1., 1., 1.], requires_grad=True))\n",
            "('blocks.0.layer_norm_1.bias', Parameter containing:\n",
            "tensor([0., 0., 0., 0., 0., 0., 0., 0., 0., 0., 0., 0., 0., 0., 0., 0., 0., 0., 0., 0., 0., 0., 0., 0.,\n",
            "        0., 0., 0., 0., 0., 0., 0., 0., 0., 0., 0., 0., 0., 0., 0., 0., 0., 0., 0., 0., 0., 0., 0., 0.,\n",
            "        0., 0., 0., 0., 0., 0., 0., 0., 0., 0., 0., 0., 0., 0., 0., 0., 0., 0., 0., 0., 0., 0., 0., 0.,\n",
            "        0., 0., 0., 0., 0., 0., 0., 0., 0., 0., 0., 0., 0., 0., 0., 0., 0., 0., 0., 0., 0., 0., 0., 0.,\n",
            "        0., 0., 0., 0., 0., 0., 0., 0., 0., 0., 0., 0., 0., 0., 0., 0., 0., 0., 0., 0., 0., 0., 0., 0.,\n",
            "        0., 0., 0., 0., 0., 0., 0., 0., 0., 0., 0., 0., 0., 0., 0., 0., 0., 0., 0., 0., 0., 0., 0., 0.,\n",
            "        0., 0., 0., 0., 0., 0., 0., 0., 0., 0., 0., 0., 0., 0., 0., 0., 0., 0., 0., 0., 0., 0., 0., 0.,\n",
            "        0., 0., 0., 0., 0., 0., 0., 0., 0., 0., 0., 0., 0., 0., 0., 0., 0., 0., 0., 0., 0., 0., 0., 0.,\n",
            "        0., 0., 0., 0., 0., 0., 0., 0., 0., 0., 0., 0., 0., 0., 0., 0., 0., 0., 0., 0., 0., 0., 0., 0.,\n",
            "        0., 0., 0., 0., 0., 0., 0., 0., 0., 0., 0., 0., 0., 0., 0., 0., 0., 0., 0., 0., 0., 0., 0., 0.,\n",
            "        0., 0., 0., 0., 0., 0., 0., 0., 0., 0., 0., 0., 0., 0., 0., 0.],\n",
            "       requires_grad=True))\n",
            "('blocks.0.layer_norm_2.weight', Parameter containing:\n",
            "tensor([1., 1., 1., 1., 1., 1., 1., 1., 1., 1., 1., 1., 1., 1., 1., 1., 1., 1.,\n",
            "        1., 1., 1., 1., 1., 1., 1., 1., 1., 1., 1., 1., 1., 1., 1., 1., 1., 1.,\n",
            "        1., 1., 1., 1., 1., 1., 1., 1., 1., 1., 1., 1., 1., 1., 1., 1., 1., 1.,\n",
            "        1., 1., 1., 1., 1., 1., 1., 1., 1., 1., 1., 1., 1., 1., 1., 1., 1., 1.,\n",
            "        1., 1., 1., 1., 1., 1., 1., 1., 1., 1., 1., 1., 1., 1., 1., 1., 1., 1.,\n",
            "        1., 1., 1., 1., 1., 1., 1., 1., 1., 1., 1., 1., 1., 1., 1., 1., 1., 1.,\n",
            "        1., 1., 1., 1., 1., 1., 1., 1., 1., 1., 1., 1., 1., 1., 1., 1., 1., 1.,\n",
            "        1., 1., 1., 1., 1., 1., 1., 1., 1., 1., 1., 1., 1., 1., 1., 1., 1., 1.,\n",
            "        1., 1., 1., 1., 1., 1., 1., 1., 1., 1., 1., 1., 1., 1., 1., 1., 1., 1.,\n",
            "        1., 1., 1., 1., 1., 1., 1., 1., 1., 1., 1., 1., 1., 1., 1., 1., 1., 1.,\n",
            "        1., 1., 1., 1., 1., 1., 1., 1., 1., 1., 1., 1., 1., 1., 1., 1., 1., 1.,\n",
            "        1., 1., 1., 1., 1., 1., 1., 1., 1., 1., 1., 1., 1., 1., 1., 1., 1., 1.,\n",
            "        1., 1., 1., 1., 1., 1., 1., 1., 1., 1., 1., 1., 1., 1., 1., 1., 1., 1.,\n",
            "        1., 1., 1., 1., 1., 1., 1., 1., 1., 1., 1., 1., 1., 1., 1., 1., 1., 1.,\n",
            "        1., 1., 1., 1.], requires_grad=True))\n",
            "('blocks.0.layer_norm_2.bias', Parameter containing:\n",
            "tensor([0., 0., 0., 0., 0., 0., 0., 0., 0., 0., 0., 0., 0., 0., 0., 0., 0., 0., 0., 0., 0., 0., 0., 0.,\n",
            "        0., 0., 0., 0., 0., 0., 0., 0., 0., 0., 0., 0., 0., 0., 0., 0., 0., 0., 0., 0., 0., 0., 0., 0.,\n",
            "        0., 0., 0., 0., 0., 0., 0., 0., 0., 0., 0., 0., 0., 0., 0., 0., 0., 0., 0., 0., 0., 0., 0., 0.,\n",
            "        0., 0., 0., 0., 0., 0., 0., 0., 0., 0., 0., 0., 0., 0., 0., 0., 0., 0., 0., 0., 0., 0., 0., 0.,\n",
            "        0., 0., 0., 0., 0., 0., 0., 0., 0., 0., 0., 0., 0., 0., 0., 0., 0., 0., 0., 0., 0., 0., 0., 0.,\n",
            "        0., 0., 0., 0., 0., 0., 0., 0., 0., 0., 0., 0., 0., 0., 0., 0., 0., 0., 0., 0., 0., 0., 0., 0.,\n",
            "        0., 0., 0., 0., 0., 0., 0., 0., 0., 0., 0., 0., 0., 0., 0., 0., 0., 0., 0., 0., 0., 0., 0., 0.,\n",
            "        0., 0., 0., 0., 0., 0., 0., 0., 0., 0., 0., 0., 0., 0., 0., 0., 0., 0., 0., 0., 0., 0., 0., 0.,\n",
            "        0., 0., 0., 0., 0., 0., 0., 0., 0., 0., 0., 0., 0., 0., 0., 0., 0., 0., 0., 0., 0., 0., 0., 0.,\n",
            "        0., 0., 0., 0., 0., 0., 0., 0., 0., 0., 0., 0., 0., 0., 0., 0., 0., 0., 0., 0., 0., 0., 0., 0.,\n",
            "        0., 0., 0., 0., 0., 0., 0., 0., 0., 0., 0., 0., 0., 0., 0., 0.],\n",
            "       requires_grad=True))\n",
            "('blocks.1.attention.atten.weight', Parameter containing:\n",
            "tensor([[-8.5455e-03,  2.2182e-03,  3.2418e-03,  ...,  1.7486e-03,\n",
            "         -3.5386e-06, -2.2380e-03],\n",
            "        [ 1.7695e-03, -8.3450e-03, -1.4542e-02,  ..., -6.8080e-04,\n",
            "         -5.8550e-03,  2.6550e-04],\n",
            "        [-2.1077e-03, -1.0308e-03,  2.0432e-02,  ...,  1.1170e-02,\n",
            "          6.9975e-03,  1.5525e-02],\n",
            "        ...,\n",
            "        [-1.0773e-02, -1.5329e-02, -9.8374e-03,  ..., -5.5355e-03,\n",
            "          5.7343e-03, -1.3359e-02],\n",
            "        [ 9.6865e-03,  1.5578e-02,  1.2173e-02,  ..., -5.4297e-03,\n",
            "          1.2147e-02,  2.1238e-03],\n",
            "        [-6.0180e-03,  2.9003e-03,  9.0030e-03,  ...,  5.5907e-03,\n",
            "          2.1834e-03, -1.0962e-02]], requires_grad=True))\n",
            "('blocks.1.attention.projection.weight', Parameter containing:\n",
            "tensor([[-0.0048, -0.0076,  0.0005,  ..., -0.0034, -0.0053,  0.0013],\n",
            "        [ 0.0082,  0.0097,  0.0046,  ..., -0.0123, -0.0012,  0.0010],\n",
            "        [-0.0040,  0.0048, -0.0101,  ..., -0.0027, -0.0079, -0.0060],\n",
            "        ...,\n",
            "        [ 0.0006,  0.0137, -0.0016,  ..., -0.0034, -0.0081, -0.0073],\n",
            "        [-0.0103, -0.0105,  0.0052,  ...,  0.0014,  0.0084, -0.0018],\n",
            "        [-0.0022, -0.0071,  0.0062,  ...,  0.0026, -0.0136,  0.0009]],\n",
            "       requires_grad=True))\n",
            "('blocks.1.feed_forward.net.0.weight', Parameter containing:\n",
            "tensor([[ 0.0077, -0.0115,  0.0122,  ...,  0.0110, -0.0051, -0.0042],\n",
            "        [ 0.0066, -0.0013, -0.0052,  ...,  0.0085,  0.0090, -0.0055],\n",
            "        [-0.0033, -0.0180, -0.0101,  ...,  0.0060,  0.0054,  0.0107],\n",
            "        ...,\n",
            "        [-0.0025, -0.0009, -0.0007,  ..., -0.0026, -0.0058,  0.0052],\n",
            "        [ 0.0112,  0.0029,  0.0046,  ...,  0.0074,  0.0091, -0.0062],\n",
            "        [-0.0062, -0.0110, -0.0017,  ..., -0.0104, -0.0006, -0.0040]],\n",
            "       requires_grad=True))\n",
            "('blocks.1.feed_forward.net.1.weight', Parameter containing:\n",
            "tensor([[ 0.0070,  0.0060, -0.0028,  ..., -0.0025,  0.0012,  0.0050],\n",
            "        [-0.0076,  0.0034,  0.0082,  ...,  0.0096,  0.0017, -0.0038],\n",
            "        [ 0.0223, -0.0033,  0.0067,  ..., -0.0019, -0.0023, -0.0007],\n",
            "        ...,\n",
            "        [ 0.0003, -0.0101, -0.0063,  ..., -0.0106, -0.0016,  0.0050],\n",
            "        [ 0.0048, -0.0041,  0.0043,  ..., -0.0089, -0.0056,  0.0024],\n",
            "        [-0.0126,  0.0027, -0.0114,  ..., -0.0068, -0.0052,  0.0040]],\n",
            "       requires_grad=True))\n",
            "('blocks.1.layer_norm_1.weight', Parameter containing:\n",
            "tensor([1., 1., 1., 1., 1., 1., 1., 1., 1., 1., 1., 1., 1., 1., 1., 1., 1., 1.,\n",
            "        1., 1., 1., 1., 1., 1., 1., 1., 1., 1., 1., 1., 1., 1., 1., 1., 1., 1.,\n",
            "        1., 1., 1., 1., 1., 1., 1., 1., 1., 1., 1., 1., 1., 1., 1., 1., 1., 1.,\n",
            "        1., 1., 1., 1., 1., 1., 1., 1., 1., 1., 1., 1., 1., 1., 1., 1., 1., 1.,\n",
            "        1., 1., 1., 1., 1., 1., 1., 1., 1., 1., 1., 1., 1., 1., 1., 1., 1., 1.,\n",
            "        1., 1., 1., 1., 1., 1., 1., 1., 1., 1., 1., 1., 1., 1., 1., 1., 1., 1.,\n",
            "        1., 1., 1., 1., 1., 1., 1., 1., 1., 1., 1., 1., 1., 1., 1., 1., 1., 1.,\n",
            "        1., 1., 1., 1., 1., 1., 1., 1., 1., 1., 1., 1., 1., 1., 1., 1., 1., 1.,\n",
            "        1., 1., 1., 1., 1., 1., 1., 1., 1., 1., 1., 1., 1., 1., 1., 1., 1., 1.,\n",
            "        1., 1., 1., 1., 1., 1., 1., 1., 1., 1., 1., 1., 1., 1., 1., 1., 1., 1.,\n",
            "        1., 1., 1., 1., 1., 1., 1., 1., 1., 1., 1., 1., 1., 1., 1., 1., 1., 1.,\n",
            "        1., 1., 1., 1., 1., 1., 1., 1., 1., 1., 1., 1., 1., 1., 1., 1., 1., 1.,\n",
            "        1., 1., 1., 1., 1., 1., 1., 1., 1., 1., 1., 1., 1., 1., 1., 1., 1., 1.,\n",
            "        1., 1., 1., 1., 1., 1., 1., 1., 1., 1., 1., 1., 1., 1., 1., 1., 1., 1.,\n",
            "        1., 1., 1., 1.], requires_grad=True))\n",
            "('blocks.1.layer_norm_1.bias', Parameter containing:\n",
            "tensor([0., 0., 0., 0., 0., 0., 0., 0., 0., 0., 0., 0., 0., 0., 0., 0., 0., 0., 0., 0., 0., 0., 0., 0.,\n",
            "        0., 0., 0., 0., 0., 0., 0., 0., 0., 0., 0., 0., 0., 0., 0., 0., 0., 0., 0., 0., 0., 0., 0., 0.,\n",
            "        0., 0., 0., 0., 0., 0., 0., 0., 0., 0., 0., 0., 0., 0., 0., 0., 0., 0., 0., 0., 0., 0., 0., 0.,\n",
            "        0., 0., 0., 0., 0., 0., 0., 0., 0., 0., 0., 0., 0., 0., 0., 0., 0., 0., 0., 0., 0., 0., 0., 0.,\n",
            "        0., 0., 0., 0., 0., 0., 0., 0., 0., 0., 0., 0., 0., 0., 0., 0., 0., 0., 0., 0., 0., 0., 0., 0.,\n",
            "        0., 0., 0., 0., 0., 0., 0., 0., 0., 0., 0., 0., 0., 0., 0., 0., 0., 0., 0., 0., 0., 0., 0., 0.,\n",
            "        0., 0., 0., 0., 0., 0., 0., 0., 0., 0., 0., 0., 0., 0., 0., 0., 0., 0., 0., 0., 0., 0., 0., 0.,\n",
            "        0., 0., 0., 0., 0., 0., 0., 0., 0., 0., 0., 0., 0., 0., 0., 0., 0., 0., 0., 0., 0., 0., 0., 0.,\n",
            "        0., 0., 0., 0., 0., 0., 0., 0., 0., 0., 0., 0., 0., 0., 0., 0., 0., 0., 0., 0., 0., 0., 0., 0.,\n",
            "        0., 0., 0., 0., 0., 0., 0., 0., 0., 0., 0., 0., 0., 0., 0., 0., 0., 0., 0., 0., 0., 0., 0., 0.,\n",
            "        0., 0., 0., 0., 0., 0., 0., 0., 0., 0., 0., 0., 0., 0., 0., 0.],\n",
            "       requires_grad=True))\n",
            "('blocks.1.layer_norm_2.weight', Parameter containing:\n",
            "tensor([1., 1., 1., 1., 1., 1., 1., 1., 1., 1., 1., 1., 1., 1., 1., 1., 1., 1.,\n",
            "        1., 1., 1., 1., 1., 1., 1., 1., 1., 1., 1., 1., 1., 1., 1., 1., 1., 1.,\n",
            "        1., 1., 1., 1., 1., 1., 1., 1., 1., 1., 1., 1., 1., 1., 1., 1., 1., 1.,\n",
            "        1., 1., 1., 1., 1., 1., 1., 1., 1., 1., 1., 1., 1., 1., 1., 1., 1., 1.,\n",
            "        1., 1., 1., 1., 1., 1., 1., 1., 1., 1., 1., 1., 1., 1., 1., 1., 1., 1.,\n",
            "        1., 1., 1., 1., 1., 1., 1., 1., 1., 1., 1., 1., 1., 1., 1., 1., 1., 1.,\n",
            "        1., 1., 1., 1., 1., 1., 1., 1., 1., 1., 1., 1., 1., 1., 1., 1., 1., 1.,\n",
            "        1., 1., 1., 1., 1., 1., 1., 1., 1., 1., 1., 1., 1., 1., 1., 1., 1., 1.,\n",
            "        1., 1., 1., 1., 1., 1., 1., 1., 1., 1., 1., 1., 1., 1., 1., 1., 1., 1.,\n",
            "        1., 1., 1., 1., 1., 1., 1., 1., 1., 1., 1., 1., 1., 1., 1., 1., 1., 1.,\n",
            "        1., 1., 1., 1., 1., 1., 1., 1., 1., 1., 1., 1., 1., 1., 1., 1., 1., 1.,\n",
            "        1., 1., 1., 1., 1., 1., 1., 1., 1., 1., 1., 1., 1., 1., 1., 1., 1., 1.,\n",
            "        1., 1., 1., 1., 1., 1., 1., 1., 1., 1., 1., 1., 1., 1., 1., 1., 1., 1.,\n",
            "        1., 1., 1., 1., 1., 1., 1., 1., 1., 1., 1., 1., 1., 1., 1., 1., 1., 1.,\n",
            "        1., 1., 1., 1.], requires_grad=True))\n",
            "('blocks.1.layer_norm_2.bias', Parameter containing:\n",
            "tensor([0., 0., 0., 0., 0., 0., 0., 0., 0., 0., 0., 0., 0., 0., 0., 0., 0., 0., 0., 0., 0., 0., 0., 0.,\n",
            "        0., 0., 0., 0., 0., 0., 0., 0., 0., 0., 0., 0., 0., 0., 0., 0., 0., 0., 0., 0., 0., 0., 0., 0.,\n",
            "        0., 0., 0., 0., 0., 0., 0., 0., 0., 0., 0., 0., 0., 0., 0., 0., 0., 0., 0., 0., 0., 0., 0., 0.,\n",
            "        0., 0., 0., 0., 0., 0., 0., 0., 0., 0., 0., 0., 0., 0., 0., 0., 0., 0., 0., 0., 0., 0., 0., 0.,\n",
            "        0., 0., 0., 0., 0., 0., 0., 0., 0., 0., 0., 0., 0., 0., 0., 0., 0., 0., 0., 0., 0., 0., 0., 0.,\n",
            "        0., 0., 0., 0., 0., 0., 0., 0., 0., 0., 0., 0., 0., 0., 0., 0., 0., 0., 0., 0., 0., 0., 0., 0.,\n",
            "        0., 0., 0., 0., 0., 0., 0., 0., 0., 0., 0., 0., 0., 0., 0., 0., 0., 0., 0., 0., 0., 0., 0., 0.,\n",
            "        0., 0., 0., 0., 0., 0., 0., 0., 0., 0., 0., 0., 0., 0., 0., 0., 0., 0., 0., 0., 0., 0., 0., 0.,\n",
            "        0., 0., 0., 0., 0., 0., 0., 0., 0., 0., 0., 0., 0., 0., 0., 0., 0., 0., 0., 0., 0., 0., 0., 0.,\n",
            "        0., 0., 0., 0., 0., 0., 0., 0., 0., 0., 0., 0., 0., 0., 0., 0., 0., 0., 0., 0., 0., 0., 0., 0.,\n",
            "        0., 0., 0., 0., 0., 0., 0., 0., 0., 0., 0., 0., 0., 0., 0., 0.],\n",
            "       requires_grad=True))\n",
            "('blocks.2.attention.atten.weight', Parameter containing:\n",
            "tensor([[ 0.0050,  0.0066,  0.0039,  ..., -0.0104, -0.0086, -0.0057],\n",
            "        [ 0.0027, -0.0009, -0.0077,  ...,  0.0059,  0.0011, -0.0009],\n",
            "        [ 0.0078,  0.0148,  0.0011,  ...,  0.0022, -0.0129,  0.0020],\n",
            "        ...,\n",
            "        [ 0.0100, -0.0027,  0.0061,  ..., -0.0080,  0.0012,  0.0057],\n",
            "        [ 0.0024, -0.0054, -0.0011,  ..., -0.0074, -0.0039,  0.0087],\n",
            "        [ 0.0037,  0.0102, -0.0146,  ...,  0.0153,  0.0035,  0.0058]],\n",
            "       requires_grad=True))\n",
            "('blocks.2.attention.projection.weight', Parameter containing:\n",
            "tensor([[-1.0604e-02, -1.8266e-03, -5.1127e-03,  ...,  5.0576e-03,\n",
            "         -1.9506e-03,  6.9348e-03],\n",
            "        [-2.4047e-02, -1.5381e-02, -3.9270e-05,  ...,  3.6719e-03,\n",
            "          6.9129e-03,  8.6383e-04],\n",
            "        [ 5.4268e-03, -2.9047e-04, -8.3123e-03,  ..., -9.1124e-03,\n",
            "          8.0804e-03,  5.4292e-05],\n",
            "        ...,\n",
            "        [ 8.0400e-03,  7.9839e-03,  7.0113e-03,  ..., -1.3674e-06,\n",
            "         -4.5552e-03, -9.5470e-03],\n",
            "        [ 4.8250e-03, -3.7205e-03, -4.6592e-03,  ..., -1.1573e-02,\n",
            "         -1.0092e-03,  1.0312e-02],\n",
            "        [-7.0832e-04,  1.3439e-02, -1.8545e-03,  ..., -2.7917e-04,\n",
            "         -1.7519e-03,  7.3930e-03]], requires_grad=True))\n",
            "('blocks.2.feed_forward.net.0.weight', Parameter containing:\n",
            "tensor([[ 5.6761e-03, -8.2069e-03,  1.9786e-03,  ...,  9.5921e-03,\n",
            "          3.9558e-03, -2.5309e-03],\n",
            "        [-5.4491e-03,  4.0966e-03,  9.1543e-03,  ...,  5.0787e-03,\n",
            "         -4.8232e-03, -5.9899e-03],\n",
            "        [-4.0297e-03,  5.0416e-03, -9.5156e-03,  ...,  6.0734e-03,\n",
            "         -8.2929e-03, -7.1617e-03],\n",
            "        ...,\n",
            "        [ 6.7102e-04, -8.6320e-03,  3.1167e-03,  ..., -2.8714e-03,\n",
            "         -2.6483e-04, -4.7044e-03],\n",
            "        [ 8.6359e-03,  8.9766e-04, -4.3664e-03,  ..., -1.3196e-02,\n",
            "          3.2421e-03, -3.5164e-03],\n",
            "        [-9.3201e-03,  9.8144e-04, -2.0447e-03,  ...,  7.3649e-05,\n",
            "         -4.6420e-03, -2.8215e-03]], requires_grad=True))\n",
            "('blocks.2.feed_forward.net.1.weight', Parameter containing:\n",
            "tensor([[ 3.8720e-03,  5.2595e-05,  1.6977e-03,  ...,  4.5476e-03,\n",
            "         -9.8487e-03, -1.0543e-02],\n",
            "        [ 3.6871e-03, -5.9802e-03,  2.7379e-03,  ...,  5.8116e-04,\n",
            "         -3.1415e-03, -4.2407e-03],\n",
            "        [ 4.4821e-03,  4.7790e-03,  6.4123e-04,  ...,  1.5676e-03,\n",
            "          1.3265e-02,  5.5606e-03],\n",
            "        ...,\n",
            "        [-1.4462e-03,  1.0281e-02, -5.0198e-03,  ...,  6.9611e-03,\n",
            "          5.0044e-03,  8.3144e-03],\n",
            "        [-5.0979e-04,  4.7515e-03,  1.2453e-02,  ...,  1.7288e-03,\n",
            "         -3.0958e-03,  6.2297e-03],\n",
            "        [-1.5687e-03, -9.4238e-03, -1.1133e-02,  ..., -8.0156e-05,\n",
            "          1.1041e-02,  9.6859e-03]], requires_grad=True))\n",
            "('blocks.2.layer_norm_1.weight', Parameter containing:\n",
            "tensor([1., 1., 1., 1., 1., 1., 1., 1., 1., 1., 1., 1., 1., 1., 1., 1., 1., 1.,\n",
            "        1., 1., 1., 1., 1., 1., 1., 1., 1., 1., 1., 1., 1., 1., 1., 1., 1., 1.,\n",
            "        1., 1., 1., 1., 1., 1., 1., 1., 1., 1., 1., 1., 1., 1., 1., 1., 1., 1.,\n",
            "        1., 1., 1., 1., 1., 1., 1., 1., 1., 1., 1., 1., 1., 1., 1., 1., 1., 1.,\n",
            "        1., 1., 1., 1., 1., 1., 1., 1., 1., 1., 1., 1., 1., 1., 1., 1., 1., 1.,\n",
            "        1., 1., 1., 1., 1., 1., 1., 1., 1., 1., 1., 1., 1., 1., 1., 1., 1., 1.,\n",
            "        1., 1., 1., 1., 1., 1., 1., 1., 1., 1., 1., 1., 1., 1., 1., 1., 1., 1.,\n",
            "        1., 1., 1., 1., 1., 1., 1., 1., 1., 1., 1., 1., 1., 1., 1., 1., 1., 1.,\n",
            "        1., 1., 1., 1., 1., 1., 1., 1., 1., 1., 1., 1., 1., 1., 1., 1., 1., 1.,\n",
            "        1., 1., 1., 1., 1., 1., 1., 1., 1., 1., 1., 1., 1., 1., 1., 1., 1., 1.,\n",
            "        1., 1., 1., 1., 1., 1., 1., 1., 1., 1., 1., 1., 1., 1., 1., 1., 1., 1.,\n",
            "        1., 1., 1., 1., 1., 1., 1., 1., 1., 1., 1., 1., 1., 1., 1., 1., 1., 1.,\n",
            "        1., 1., 1., 1., 1., 1., 1., 1., 1., 1., 1., 1., 1., 1., 1., 1., 1., 1.,\n",
            "        1., 1., 1., 1., 1., 1., 1., 1., 1., 1., 1., 1., 1., 1., 1., 1., 1., 1.,\n",
            "        1., 1., 1., 1.], requires_grad=True))\n",
            "('blocks.2.layer_norm_1.bias', Parameter containing:\n",
            "tensor([0., 0., 0., 0., 0., 0., 0., 0., 0., 0., 0., 0., 0., 0., 0., 0., 0., 0., 0., 0., 0., 0., 0., 0.,\n",
            "        0., 0., 0., 0., 0., 0., 0., 0., 0., 0., 0., 0., 0., 0., 0., 0., 0., 0., 0., 0., 0., 0., 0., 0.,\n",
            "        0., 0., 0., 0., 0., 0., 0., 0., 0., 0., 0., 0., 0., 0., 0., 0., 0., 0., 0., 0., 0., 0., 0., 0.,\n",
            "        0., 0., 0., 0., 0., 0., 0., 0., 0., 0., 0., 0., 0., 0., 0., 0., 0., 0., 0., 0., 0., 0., 0., 0.,\n",
            "        0., 0., 0., 0., 0., 0., 0., 0., 0., 0., 0., 0., 0., 0., 0., 0., 0., 0., 0., 0., 0., 0., 0., 0.,\n",
            "        0., 0., 0., 0., 0., 0., 0., 0., 0., 0., 0., 0., 0., 0., 0., 0., 0., 0., 0., 0., 0., 0., 0., 0.,\n",
            "        0., 0., 0., 0., 0., 0., 0., 0., 0., 0., 0., 0., 0., 0., 0., 0., 0., 0., 0., 0., 0., 0., 0., 0.,\n",
            "        0., 0., 0., 0., 0., 0., 0., 0., 0., 0., 0., 0., 0., 0., 0., 0., 0., 0., 0., 0., 0., 0., 0., 0.,\n",
            "        0., 0., 0., 0., 0., 0., 0., 0., 0., 0., 0., 0., 0., 0., 0., 0., 0., 0., 0., 0., 0., 0., 0., 0.,\n",
            "        0., 0., 0., 0., 0., 0., 0., 0., 0., 0., 0., 0., 0., 0., 0., 0., 0., 0., 0., 0., 0., 0., 0., 0.,\n",
            "        0., 0., 0., 0., 0., 0., 0., 0., 0., 0., 0., 0., 0., 0., 0., 0.],\n",
            "       requires_grad=True))\n",
            "('blocks.2.layer_norm_2.weight', Parameter containing:\n",
            "tensor([1., 1., 1., 1., 1., 1., 1., 1., 1., 1., 1., 1., 1., 1., 1., 1., 1., 1.,\n",
            "        1., 1., 1., 1., 1., 1., 1., 1., 1., 1., 1., 1., 1., 1., 1., 1., 1., 1.,\n",
            "        1., 1., 1., 1., 1., 1., 1., 1., 1., 1., 1., 1., 1., 1., 1., 1., 1., 1.,\n",
            "        1., 1., 1., 1., 1., 1., 1., 1., 1., 1., 1., 1., 1., 1., 1., 1., 1., 1.,\n",
            "        1., 1., 1., 1., 1., 1., 1., 1., 1., 1., 1., 1., 1., 1., 1., 1., 1., 1.,\n",
            "        1., 1., 1., 1., 1., 1., 1., 1., 1., 1., 1., 1., 1., 1., 1., 1., 1., 1.,\n",
            "        1., 1., 1., 1., 1., 1., 1., 1., 1., 1., 1., 1., 1., 1., 1., 1., 1., 1.,\n",
            "        1., 1., 1., 1., 1., 1., 1., 1., 1., 1., 1., 1., 1., 1., 1., 1., 1., 1.,\n",
            "        1., 1., 1., 1., 1., 1., 1., 1., 1., 1., 1., 1., 1., 1., 1., 1., 1., 1.,\n",
            "        1., 1., 1., 1., 1., 1., 1., 1., 1., 1., 1., 1., 1., 1., 1., 1., 1., 1.,\n",
            "        1., 1., 1., 1., 1., 1., 1., 1., 1., 1., 1., 1., 1., 1., 1., 1., 1., 1.,\n",
            "        1., 1., 1., 1., 1., 1., 1., 1., 1., 1., 1., 1., 1., 1., 1., 1., 1., 1.,\n",
            "        1., 1., 1., 1., 1., 1., 1., 1., 1., 1., 1., 1., 1., 1., 1., 1., 1., 1.,\n",
            "        1., 1., 1., 1., 1., 1., 1., 1., 1., 1., 1., 1., 1., 1., 1., 1., 1., 1.,\n",
            "        1., 1., 1., 1.], requires_grad=True))\n",
            "('blocks.2.layer_norm_2.bias', Parameter containing:\n",
            "tensor([0., 0., 0., 0., 0., 0., 0., 0., 0., 0., 0., 0., 0., 0., 0., 0., 0., 0., 0., 0., 0., 0., 0., 0.,\n",
            "        0., 0., 0., 0., 0., 0., 0., 0., 0., 0., 0., 0., 0., 0., 0., 0., 0., 0., 0., 0., 0., 0., 0., 0.,\n",
            "        0., 0., 0., 0., 0., 0., 0., 0., 0., 0., 0., 0., 0., 0., 0., 0., 0., 0., 0., 0., 0., 0., 0., 0.,\n",
            "        0., 0., 0., 0., 0., 0., 0., 0., 0., 0., 0., 0., 0., 0., 0., 0., 0., 0., 0., 0., 0., 0., 0., 0.,\n",
            "        0., 0., 0., 0., 0., 0., 0., 0., 0., 0., 0., 0., 0., 0., 0., 0., 0., 0., 0., 0., 0., 0., 0., 0.,\n",
            "        0., 0., 0., 0., 0., 0., 0., 0., 0., 0., 0., 0., 0., 0., 0., 0., 0., 0., 0., 0., 0., 0., 0., 0.,\n",
            "        0., 0., 0., 0., 0., 0., 0., 0., 0., 0., 0., 0., 0., 0., 0., 0., 0., 0., 0., 0., 0., 0., 0., 0.,\n",
            "        0., 0., 0., 0., 0., 0., 0., 0., 0., 0., 0., 0., 0., 0., 0., 0., 0., 0., 0., 0., 0., 0., 0., 0.,\n",
            "        0., 0., 0., 0., 0., 0., 0., 0., 0., 0., 0., 0., 0., 0., 0., 0., 0., 0., 0., 0., 0., 0., 0., 0.,\n",
            "        0., 0., 0., 0., 0., 0., 0., 0., 0., 0., 0., 0., 0., 0., 0., 0., 0., 0., 0., 0., 0., 0., 0., 0.,\n",
            "        0., 0., 0., 0., 0., 0., 0., 0., 0., 0., 0., 0., 0., 0., 0., 0.],\n",
            "       requires_grad=True))\n",
            "('blocks.3.attention.atten.weight', Parameter containing:\n",
            "tensor([[ 1.6171e-02,  9.9113e-03,  3.5526e-03,  ...,  7.6135e-05,\n",
            "          1.2491e-02, -7.5808e-03],\n",
            "        [-1.2474e-02, -1.0253e-02,  5.7322e-03,  ...,  2.0875e-03,\n",
            "          2.2680e-03,  3.2559e-03],\n",
            "        [ 4.7563e-03,  8.4923e-03,  1.0885e-02,  ..., -4.2705e-03,\n",
            "         -6.7554e-03, -3.4721e-04],\n",
            "        ...,\n",
            "        [-6.5364e-04,  1.7668e-03,  5.1257e-03,  ..., -1.5400e-03,\n",
            "         -7.4051e-03,  3.7171e-03],\n",
            "        [ 8.1552e-03, -4.7933e-03, -1.0326e-03,  ...,  3.1171e-03,\n",
            "          5.9599e-04,  8.2440e-03],\n",
            "        [ 5.1220e-03,  3.2152e-03,  9.4832e-03,  ...,  9.5994e-03,\n",
            "         -8.1431e-04, -7.9162e-03]], requires_grad=True))\n",
            "('blocks.3.attention.projection.weight', Parameter containing:\n",
            "tensor([[ 1.6081e-03, -8.3237e-03,  2.5113e-03,  ...,  1.4713e-02,\n",
            "         -4.3580e-03,  5.1167e-03],\n",
            "        [-9.1012e-03,  1.7261e-03,  3.5603e-03,  ...,  3.0243e-03,\n",
            "          7.3068e-03, -7.7441e-03],\n",
            "        [ 6.5913e-03,  2.8885e-03, -3.1464e-03,  ...,  1.6334e-03,\n",
            "          8.8622e-03, -6.6489e-04],\n",
            "        ...,\n",
            "        [-1.4276e-02, -8.6455e-03, -2.7322e-03,  ..., -3.5976e-03,\n",
            "         -1.3144e-03, -7.4762e-03],\n",
            "        [ 1.3516e-03, -6.3719e-03, -5.8749e-03,  ...,  2.6683e-03,\n",
            "         -1.9810e-03,  7.1282e-05],\n",
            "        [ 3.1800e-03,  7.5080e-03, -3.0155e-03,  ...,  1.9656e-03,\n",
            "          2.2568e-03, -1.5543e-02]], requires_grad=True))\n",
            "('blocks.3.feed_forward.net.0.weight', Parameter containing:\n",
            "tensor([[ 6.4447e-03,  7.5707e-03, -1.7274e-04,  ..., -1.2503e-02,\n",
            "         -6.5404e-04,  1.3626e-02],\n",
            "        [ 5.8063e-03, -6.5058e-03, -5.9220e-03,  ..., -3.7010e-03,\n",
            "          1.1486e-03, -9.2892e-03],\n",
            "        [-6.8191e-03, -3.6950e-03, -5.0447e-03,  ..., -2.3339e-05,\n",
            "         -7.1757e-03,  1.0116e-02],\n",
            "        ...,\n",
            "        [-2.2171e-03, -1.3435e-02,  2.6749e-04,  ...,  7.5943e-04,\n",
            "          5.3148e-03, -1.2952e-02],\n",
            "        [ 7.9959e-03, -8.2688e-03,  1.0140e-02,  ..., -9.9723e-04,\n",
            "         -4.0597e-03,  4.3002e-03],\n",
            "        [ 8.9651e-03,  4.3534e-03,  1.4799e-03,  ..., -6.1718e-03,\n",
            "         -5.8979e-03,  1.8232e-02]], requires_grad=True))\n",
            "('blocks.3.feed_forward.net.1.weight', Parameter containing:\n",
            "tensor([[-3.8880e-03,  1.8348e-02, -8.1707e-03,  ...,  7.7182e-03,\n",
            "          5.7356e-03, -9.4258e-03],\n",
            "        [-4.4554e-03, -2.5723e-03,  1.1796e-03,  ...,  1.0556e-02,\n",
            "         -1.3277e-02, -4.6025e-03],\n",
            "        [-1.2009e-02, -1.7214e-03,  1.0411e-03,  ...,  6.7423e-04,\n",
            "         -8.9377e-03, -2.5150e-03],\n",
            "        ...,\n",
            "        [-2.6043e-03,  1.7264e-03,  4.4033e-03,  ...,  4.0310e-03,\n",
            "         -1.6426e-02, -8.5505e-03],\n",
            "        [-8.8428e-03, -1.1087e-02, -7.5711e-06,  ..., -5.1500e-03,\n",
            "         -7.5138e-04, -7.2917e-04],\n",
            "        [-6.3696e-03,  2.9445e-04, -1.3937e-02,  ..., -6.5795e-03,\n",
            "          5.4340e-03,  7.9872e-03]], requires_grad=True))\n",
            "('blocks.3.layer_norm_1.weight', Parameter containing:\n",
            "tensor([1., 1., 1., 1., 1., 1., 1., 1., 1., 1., 1., 1., 1., 1., 1., 1., 1., 1.,\n",
            "        1., 1., 1., 1., 1., 1., 1., 1., 1., 1., 1., 1., 1., 1., 1., 1., 1., 1.,\n",
            "        1., 1., 1., 1., 1., 1., 1., 1., 1., 1., 1., 1., 1., 1., 1., 1., 1., 1.,\n",
            "        1., 1., 1., 1., 1., 1., 1., 1., 1., 1., 1., 1., 1., 1., 1., 1., 1., 1.,\n",
            "        1., 1., 1., 1., 1., 1., 1., 1., 1., 1., 1., 1., 1., 1., 1., 1., 1., 1.,\n",
            "        1., 1., 1., 1., 1., 1., 1., 1., 1., 1., 1., 1., 1., 1., 1., 1., 1., 1.,\n",
            "        1., 1., 1., 1., 1., 1., 1., 1., 1., 1., 1., 1., 1., 1., 1., 1., 1., 1.,\n",
            "        1., 1., 1., 1., 1., 1., 1., 1., 1., 1., 1., 1., 1., 1., 1., 1., 1., 1.,\n",
            "        1., 1., 1., 1., 1., 1., 1., 1., 1., 1., 1., 1., 1., 1., 1., 1., 1., 1.,\n",
            "        1., 1., 1., 1., 1., 1., 1., 1., 1., 1., 1., 1., 1., 1., 1., 1., 1., 1.,\n",
            "        1., 1., 1., 1., 1., 1., 1., 1., 1., 1., 1., 1., 1., 1., 1., 1., 1., 1.,\n",
            "        1., 1., 1., 1., 1., 1., 1., 1., 1., 1., 1., 1., 1., 1., 1., 1., 1., 1.,\n",
            "        1., 1., 1., 1., 1., 1., 1., 1., 1., 1., 1., 1., 1., 1., 1., 1., 1., 1.,\n",
            "        1., 1., 1., 1., 1., 1., 1., 1., 1., 1., 1., 1., 1., 1., 1., 1., 1., 1.,\n",
            "        1., 1., 1., 1.], requires_grad=True))\n",
            "('blocks.3.layer_norm_1.bias', Parameter containing:\n",
            "tensor([0., 0., 0., 0., 0., 0., 0., 0., 0., 0., 0., 0., 0., 0., 0., 0., 0., 0., 0., 0., 0., 0., 0., 0.,\n",
            "        0., 0., 0., 0., 0., 0., 0., 0., 0., 0., 0., 0., 0., 0., 0., 0., 0., 0., 0., 0., 0., 0., 0., 0.,\n",
            "        0., 0., 0., 0., 0., 0., 0., 0., 0., 0., 0., 0., 0., 0., 0., 0., 0., 0., 0., 0., 0., 0., 0., 0.,\n",
            "        0., 0., 0., 0., 0., 0., 0., 0., 0., 0., 0., 0., 0., 0., 0., 0., 0., 0., 0., 0., 0., 0., 0., 0.,\n",
            "        0., 0., 0., 0., 0., 0., 0., 0., 0., 0., 0., 0., 0., 0., 0., 0., 0., 0., 0., 0., 0., 0., 0., 0.,\n",
            "        0., 0., 0., 0., 0., 0., 0., 0., 0., 0., 0., 0., 0., 0., 0., 0., 0., 0., 0., 0., 0., 0., 0., 0.,\n",
            "        0., 0., 0., 0., 0., 0., 0., 0., 0., 0., 0., 0., 0., 0., 0., 0., 0., 0., 0., 0., 0., 0., 0., 0.,\n",
            "        0., 0., 0., 0., 0., 0., 0., 0., 0., 0., 0., 0., 0., 0., 0., 0., 0., 0., 0., 0., 0., 0., 0., 0.,\n",
            "        0., 0., 0., 0., 0., 0., 0., 0., 0., 0., 0., 0., 0., 0., 0., 0., 0., 0., 0., 0., 0., 0., 0., 0.,\n",
            "        0., 0., 0., 0., 0., 0., 0., 0., 0., 0., 0., 0., 0., 0., 0., 0., 0., 0., 0., 0., 0., 0., 0., 0.,\n",
            "        0., 0., 0., 0., 0., 0., 0., 0., 0., 0., 0., 0., 0., 0., 0., 0.],\n",
            "       requires_grad=True))\n",
            "('blocks.3.layer_norm_2.weight', Parameter containing:\n",
            "tensor([1., 1., 1., 1., 1., 1., 1., 1., 1., 1., 1., 1., 1., 1., 1., 1., 1., 1.,\n",
            "        1., 1., 1., 1., 1., 1., 1., 1., 1., 1., 1., 1., 1., 1., 1., 1., 1., 1.,\n",
            "        1., 1., 1., 1., 1., 1., 1., 1., 1., 1., 1., 1., 1., 1., 1., 1., 1., 1.,\n",
            "        1., 1., 1., 1., 1., 1., 1., 1., 1., 1., 1., 1., 1., 1., 1., 1., 1., 1.,\n",
            "        1., 1., 1., 1., 1., 1., 1., 1., 1., 1., 1., 1., 1., 1., 1., 1., 1., 1.,\n",
            "        1., 1., 1., 1., 1., 1., 1., 1., 1., 1., 1., 1., 1., 1., 1., 1., 1., 1.,\n",
            "        1., 1., 1., 1., 1., 1., 1., 1., 1., 1., 1., 1., 1., 1., 1., 1., 1., 1.,\n",
            "        1., 1., 1., 1., 1., 1., 1., 1., 1., 1., 1., 1., 1., 1., 1., 1., 1., 1.,\n",
            "        1., 1., 1., 1., 1., 1., 1., 1., 1., 1., 1., 1., 1., 1., 1., 1., 1., 1.,\n",
            "        1., 1., 1., 1., 1., 1., 1., 1., 1., 1., 1., 1., 1., 1., 1., 1., 1., 1.,\n",
            "        1., 1., 1., 1., 1., 1., 1., 1., 1., 1., 1., 1., 1., 1., 1., 1., 1., 1.,\n",
            "        1., 1., 1., 1., 1., 1., 1., 1., 1., 1., 1., 1., 1., 1., 1., 1., 1., 1.,\n",
            "        1., 1., 1., 1., 1., 1., 1., 1., 1., 1., 1., 1., 1., 1., 1., 1., 1., 1.,\n",
            "        1., 1., 1., 1., 1., 1., 1., 1., 1., 1., 1., 1., 1., 1., 1., 1., 1., 1.,\n",
            "        1., 1., 1., 1.], requires_grad=True))\n",
            "('blocks.3.layer_norm_2.bias', Parameter containing:\n",
            "tensor([0., 0., 0., 0., 0., 0., 0., 0., 0., 0., 0., 0., 0., 0., 0., 0., 0., 0., 0., 0., 0., 0., 0., 0.,\n",
            "        0., 0., 0., 0., 0., 0., 0., 0., 0., 0., 0., 0., 0., 0., 0., 0., 0., 0., 0., 0., 0., 0., 0., 0.,\n",
            "        0., 0., 0., 0., 0., 0., 0., 0., 0., 0., 0., 0., 0., 0., 0., 0., 0., 0., 0., 0., 0., 0., 0., 0.,\n",
            "        0., 0., 0., 0., 0., 0., 0., 0., 0., 0., 0., 0., 0., 0., 0., 0., 0., 0., 0., 0., 0., 0., 0., 0.,\n",
            "        0., 0., 0., 0., 0., 0., 0., 0., 0., 0., 0., 0., 0., 0., 0., 0., 0., 0., 0., 0., 0., 0., 0., 0.,\n",
            "        0., 0., 0., 0., 0., 0., 0., 0., 0., 0., 0., 0., 0., 0., 0., 0., 0., 0., 0., 0., 0., 0., 0., 0.,\n",
            "        0., 0., 0., 0., 0., 0., 0., 0., 0., 0., 0., 0., 0., 0., 0., 0., 0., 0., 0., 0., 0., 0., 0., 0.,\n",
            "        0., 0., 0., 0., 0., 0., 0., 0., 0., 0., 0., 0., 0., 0., 0., 0., 0., 0., 0., 0., 0., 0., 0., 0.,\n",
            "        0., 0., 0., 0., 0., 0., 0., 0., 0., 0., 0., 0., 0., 0., 0., 0., 0., 0., 0., 0., 0., 0., 0., 0.,\n",
            "        0., 0., 0., 0., 0., 0., 0., 0., 0., 0., 0., 0., 0., 0., 0., 0., 0., 0., 0., 0., 0., 0., 0., 0.,\n",
            "        0., 0., 0., 0., 0., 0., 0., 0., 0., 0., 0., 0., 0., 0., 0., 0.],\n",
            "       requires_grad=True))\n",
            "('ln_f.weight', Parameter containing:\n",
            "tensor([1., 1., 1., 1., 1., 1., 1., 1., 1., 1., 1., 1., 1., 1., 1., 1., 1., 1.,\n",
            "        1., 1., 1., 1., 1., 1., 1., 1., 1., 1., 1., 1., 1., 1., 1., 1., 1., 1.,\n",
            "        1., 1., 1., 1., 1., 1., 1., 1., 1., 1., 1., 1., 1., 1., 1., 1., 1., 1.,\n",
            "        1., 1., 1., 1., 1., 1., 1., 1., 1., 1., 1., 1., 1., 1., 1., 1., 1., 1.,\n",
            "        1., 1., 1., 1., 1., 1., 1., 1., 1., 1., 1., 1., 1., 1., 1., 1., 1., 1.,\n",
            "        1., 1., 1., 1., 1., 1., 1., 1., 1., 1., 1., 1., 1., 1., 1., 1., 1., 1.,\n",
            "        1., 1., 1., 1., 1., 1., 1., 1., 1., 1., 1., 1., 1., 1., 1., 1., 1., 1.,\n",
            "        1., 1., 1., 1., 1., 1., 1., 1., 1., 1., 1., 1., 1., 1., 1., 1., 1., 1.,\n",
            "        1., 1., 1., 1., 1., 1., 1., 1., 1., 1., 1., 1., 1., 1., 1., 1., 1., 1.,\n",
            "        1., 1., 1., 1., 1., 1., 1., 1., 1., 1., 1., 1., 1., 1., 1., 1., 1., 1.,\n",
            "        1., 1., 1., 1., 1., 1., 1., 1., 1., 1., 1., 1., 1., 1., 1., 1., 1., 1.,\n",
            "        1., 1., 1., 1., 1., 1., 1., 1., 1., 1., 1., 1., 1., 1., 1., 1., 1., 1.,\n",
            "        1., 1., 1., 1., 1., 1., 1., 1., 1., 1., 1., 1., 1., 1., 1., 1., 1., 1.,\n",
            "        1., 1., 1., 1., 1., 1., 1., 1., 1., 1., 1., 1., 1., 1., 1., 1., 1., 1.,\n",
            "        1., 1., 1., 1.], requires_grad=True))\n",
            "('ln_f.bias', Parameter containing:\n",
            "tensor([0., 0., 0., 0., 0., 0., 0., 0., 0., 0., 0., 0., 0., 0., 0., 0., 0., 0., 0., 0., 0., 0., 0., 0.,\n",
            "        0., 0., 0., 0., 0., 0., 0., 0., 0., 0., 0., 0., 0., 0., 0., 0., 0., 0., 0., 0., 0., 0., 0., 0.,\n",
            "        0., 0., 0., 0., 0., 0., 0., 0., 0., 0., 0., 0., 0., 0., 0., 0., 0., 0., 0., 0., 0., 0., 0., 0.,\n",
            "        0., 0., 0., 0., 0., 0., 0., 0., 0., 0., 0., 0., 0., 0., 0., 0., 0., 0., 0., 0., 0., 0., 0., 0.,\n",
            "        0., 0., 0., 0., 0., 0., 0., 0., 0., 0., 0., 0., 0., 0., 0., 0., 0., 0., 0., 0., 0., 0., 0., 0.,\n",
            "        0., 0., 0., 0., 0., 0., 0., 0., 0., 0., 0., 0., 0., 0., 0., 0., 0., 0., 0., 0., 0., 0., 0., 0.,\n",
            "        0., 0., 0., 0., 0., 0., 0., 0., 0., 0., 0., 0., 0., 0., 0., 0., 0., 0., 0., 0., 0., 0., 0., 0.,\n",
            "        0., 0., 0., 0., 0., 0., 0., 0., 0., 0., 0., 0., 0., 0., 0., 0., 0., 0., 0., 0., 0., 0., 0., 0.,\n",
            "        0., 0., 0., 0., 0., 0., 0., 0., 0., 0., 0., 0., 0., 0., 0., 0., 0., 0., 0., 0., 0., 0., 0., 0.,\n",
            "        0., 0., 0., 0., 0., 0., 0., 0., 0., 0., 0., 0., 0., 0., 0., 0., 0., 0., 0., 0., 0., 0., 0., 0.,\n",
            "        0., 0., 0., 0., 0., 0., 0., 0., 0., 0., 0., 0., 0., 0., 0., 0.],\n",
            "       requires_grad=True))\n",
            "('lnum_heads.weight', Parameter containing:\n",
            "tensor([[-0.0006,  0.0009,  0.0036,  ...,  0.0006,  0.0036, -0.0127],\n",
            "        [-0.0053, -0.0006,  0.0076,  ..., -0.0030,  0.0081, -0.0039],\n",
            "        [ 0.0020, -0.0058, -0.0030,  ...,  0.0085,  0.0020, -0.0017],\n",
            "        ...,\n",
            "        [-0.0048,  0.0111, -0.0005,  ..., -0.0026,  0.0066,  0.0045],\n",
            "        [ 0.0022,  0.0033, -0.0031,  ...,  0.0046, -0.0068, -0.0084],\n",
            "        [-0.0106, -0.0006, -0.0066,  ..., -0.0069,  0.0014,  0.0080]],\n",
            "       requires_grad=True))\n",
            "('lnum_heads.bias', Parameter containing:\n",
            "tensor([0., 0., 0., 0., 0., 0., 0., 0., 0., 0., 0., 0., 0., 0., 0., 0., 0., 0., 0., 0., 0., 0., 0., 0.,\n",
            "        0., 0., 0., 0., 0., 0., 0., 0., 0., 0., 0., 0., 0., 0., 0., 0., 0., 0., 0., 0., 0., 0., 0., 0.,\n",
            "        0., 0., 0., 0., 0., 0., 0., 0., 0., 0., 0., 0., 0., 0., 0., 0., 0., 0., 0., 0., 0., 0., 0., 0.,\n",
            "        0., 0., 0., 0., 0., 0., 0., 0., 0., 0., 0., 0., 0., 0., 0., 0., 0., 0., 0., 0., 0., 0., 0., 0.,\n",
            "        0., 0., 0., 0., 0., 0., 0., 0., 0., 0., 0., 0., 0.],\n",
            "       requires_grad=True))\n"
          ]
        }
      ]
    },
    {
      "cell_type": "code",
      "source": [
        "import os\n",
        "import torch\n",
        "\n",
        "def print_model_size(model):\n",
        "    torch.save(model.state_dict(), \"/content/model.pth\")\n",
        "    print(\"%.4f MB\" %(os.path.getsize(\"/content/model.pth\")/1e6))\n",
        "\n",
        "\n",
        "print_model_size(model)\n",
        "print_model_size(quantized_model)"
      ],
      "metadata": {
        "colab": {
          "base_uri": "https://localhost:8080/"
        },
        "id": "4TXoZuojcN2L",
        "outputId": "debcf1d3-c474-4dcd-b21e-a4eceb6c1953"
      },
      "execution_count": 4,
      "outputs": [
        {
          "output_type": "stream",
          "name": "stdout",
          "text": [
            "12.9688 MB\n",
            "3.4608 MB\n"
          ]
        }
      ]
    },
    {
      "cell_type": "markdown",
      "source": [
        "## performance benchmarks."
      ],
      "metadata": {
        "id": "M-RStTHqcCc5"
      }
    },
    {
      "cell_type": "code",
      "source": [
        "model_fp = BabyGPTmodel(config)\n",
        "model_fp.eval()\n",
        "model_int8 = torch.ao.quantization.quantize_dynamic(\n",
        "    model_fp,  # the original model\n",
        "    {torch.nn.Linear},  # a set of layers to dynamically quantize\n",
        "    dtype=torch.qint8)\n",
        "\n",
        "def print_model_size(model_fp):\n",
        "    torch.save(model_fp.state_dict(), \"/content/model.pth\")\n",
        "    print(\"%.4f MB\" %(os.path.getsize(\"/content/model.pth\")/1e6))\n",
        "\n",
        "\n",
        "print_model_size(model_fp)\n",
        "print_model_size(model_int8)"
      ],
      "metadata": {
        "colab": {
          "base_uri": "https://localhost:8080/"
        },
        "id": "malD7oB-kdIg",
        "outputId": "737c5a0d-cc6e-4aee-f5b5-b6c2a5dd5feb"
      },
      "execution_count": 24,
      "outputs": [
        {
          "output_type": "stream",
          "name": "stdout",
          "text": [
            "number of parameters: 3222637\n",
            "12.9683 MB\n",
            "3.4603 MB\n"
          ]
        }
      ]
    },
    {
      "cell_type": "markdown",
      "source": [
        "\n",
        "\n",
        "```\n",
        "model_fp = BabyGPTmodel(config)\n",
        "model_fp.eval()\n",
        "model_int8 = torch.ao.quantization.quantize_dynamic(\n",
        "    model_fp,  # the original model\n",
        "    {torch.nn.Linear},  # a set of layers to dynamically quantize\n",
        "    dtype=torch.qint8)  \n",
        "\n",
        "/// number of parameters: 3222637\n",
        "12.9688 MB\n",
        "3.4603 MB ////\n",
        "```\n",
        "\n",
        "\n",
        "\n",
        "\n"
      ],
      "metadata": {
        "id": "TJmo4SW1Li6R"
      }
    },
    {
      "cell_type": "code",
      "source": [
        "## A difference of a factor of 3.75 post training quantization.\n",
        "\n",
        "c = 13/3.46\n",
        "c"
      ],
      "metadata": {
        "colab": {
          "base_uri": "https://localhost:8080/"
        },
        "id": "QgqBoWaan7ec",
        "outputId": "8d8caa27-c301-4cc0-c8c1-28159272e9a6"
      },
      "execution_count": 6,
      "outputs": [
        {
          "output_type": "execute_result",
          "data": {
            "text/plain": [
              "3.7572254335260116"
            ]
          },
          "metadata": {},
          "execution_count": 6
        }
      ]
    },
    {
      "cell_type": "code",
      "source": [
        "import torch\n",
        "from pathlib import Path\n",
        "\n",
        "## compute size\n",
        "# def compute_size(self):\n",
        "state_dict = model.state_dict()\n",
        "tmp_path = Path('/content/model.pth')\n",
        "torch.save(state_dict, tmp_path)\n",
        "size_mb = Path(tmp_path).stat().st_size / (1024 * 1024)\n",
        "print(f\"Model Size (MB)\")\n",
        "print(size_mb)\n",
        "\n"
      ],
      "metadata": {
        "colab": {
          "base_uri": "https://localhost:8080/"
        },
        "id": "wW68mh_eisNl",
        "outputId": "85965658-e0ba-465b-b0e9-ca3a7acd7e48"
      },
      "execution_count": 7,
      "outputs": [
        {
          "output_type": "stream",
          "name": "stdout",
          "text": [
            "Model Size (MB)\n",
            "12.368056297302246\n"
          ]
        }
      ]
    },
    {
      "cell_type": "code",
      "source": [
        "import numpy as np\n",
        "\n",
        "# list(model.state_dict().items())[2]\n",
        "model = BabyGPTmodel(config)\n",
        "device = torch.device(\"cuda\")\n",
        "model.to(device)\n",
        "\n",
        "\n",
        "# INIT LOGGERS\n",
        "starter, ender = torch.cuda.Event(enable_timing=True), torch.cuda.Event(enable_timing=True)\n",
        "repetitions = 300\n",
        "timings=np.zeros((repetitions,1))\n",
        "#GPU-WARM-UP\n",
        "for _ in range(10):\n",
        "    _ = model\n",
        "# MEASURE PERFORMANCE\n",
        "with torch.no_grad():\n",
        "    for rep in range(repetitions):\n",
        "        starter.record()\n",
        "        _ = model\n",
        "        ender.record()\n",
        "        # WAIT FOR GPU SYNC\n",
        "        torch.cuda.synchronize()\n",
        "        curr_time = starter.elapsed_time(ender)\n",
        "        timings[rep] = curr_time\n",
        "\n",
        "mean_syn = np.sum(timings) / repetitions\n",
        "std_syn = np.std(timings)\n",
        "print(mean_syn, std_syn)"
      ],
      "metadata": {
        "colab": {
          "base_uri": "https://localhost:8080/"
        },
        "id": "rzj-i2MGsjyS",
        "outputId": "86d5ed1b-23f5-44c6-fd10-664b2b18d45c"
      },
      "execution_count": 8,
      "outputs": [
        {
          "output_type": "stream",
          "name": "stdout",
          "text": [
            "number of parameters: 3222637\n",
            "0.00900650664853553 0.003450203781030377\n"
          ]
        }
      ]
    },
    {
      "cell_type": "code",
      "source": [
        "## Original model\n",
        "\n",
        "model = BabyGPTmodel(config)\n",
        "device = torch.device(\"cuda\")\n",
        "model.to(device)\n",
        "\n",
        "### throughput\n",
        "repetitions = 100\n",
        "total_time = 0\n",
        "with torch.no_grad():\n",
        "    for rep in range(repetitions):\n",
        "        starter, ender = torch.cuda.Event(enable_timing=True),   torch.cuda.Event(enable_timing=True)\n",
        "        starter.record()\n",
        "        _ = model\n",
        "        ender.record()\n",
        "        torch.cuda.synchronize()\n",
        "        curr_time = starter.elapsed_time(ender)/1000\n",
        "        total_time += curr_time\n",
        "Throughput =   (repetitions * batch_size)/total_time\n",
        "print(\"Final throughput \", Throughput/1e6, \"mbps\")"
      ],
      "metadata": {
        "colab": {
          "base_uri": "https://localhost:8080/"
        },
        "id": "nhqvSIam2n5B",
        "outputId": "39bcf1cd-8dea-42d2-9419-3e107ef6f411"
      },
      "execution_count": 9,
      "outputs": [
        {
          "output_type": "stream",
          "name": "stdout",
          "text": [
            "number of parameters: 3222637\n",
            "Final throughput  1.6311084996846195 mbps\n"
          ]
        }
      ]
    },
    {
      "cell_type": "code",
      "source": [
        "## Quantized model\n",
        "\n",
        "model = model_int8\n",
        "device = torch.device(\"cuda\")\n",
        "model.to(device)\n",
        "\n",
        "### throughput\n",
        "repetitions = 100\n",
        "total_time = 0\n",
        "with torch.no_grad():\n",
        "    for rep in range(repetitions):\n",
        "        starter, ender = torch.cuda.Event(enable_timing=True),   torch.cuda.Event(enable_timing=True)\n",
        "        starter.record()\n",
        "        _ = model\n",
        "        ender.record()\n",
        "        torch.cuda.synchronize()\n",
        "        curr_time = starter.elapsed_time(ender)/1000\n",
        "        total_time += curr_time\n",
        "Throughput =   (repetitions * batch_size)/total_time\n",
        "print(\"Final throughput \", Throughput/1e6, \"mbps\")"
      ],
      "metadata": {
        "colab": {
          "base_uri": "https://localhost:8080/"
        },
        "id": "ClJUl3Jr61Zw",
        "outputId": "bd116024-cbd9-4458-9c1a-dc35e0cfb2f5"
      },
      "execution_count": 30,
      "outputs": [
        {
          "output_type": "stream",
          "name": "stdout",
          "text": [
            "Final throughput  1.1421522698698408 mbps\n"
          ]
        }
      ]
    },
    {
      "cell_type": "code",
      "source": [
        "## Warmup\n",
        "\n",
        "import numpy as np\n",
        "from time import perf_counter\n",
        "\n",
        "model = BabyGPTmodel(config)\n",
        "device = torch.device(\"cuda\")\n",
        "model.to(device)\n",
        "latencies = []\n",
        "### gpu warmup\n",
        "\n",
        "for _ in range(10):\n",
        "  _ = model\n",
        "for _ in range(100):\n",
        "  start_time = perf_counter()\n",
        "  _ = model\n",
        "  latency = perf_counter() - start_time\n",
        "  torch.cuda.synchronize()\n",
        "\n",
        "  latencies.append(latency)\n",
        "\n",
        "## compute the run stats\n",
        "time_avg_ms = 1000 * np.mean(latencies)\n",
        "time_std_ms = 1000 * np.std(latencies)\n",
        "print(f\"Average latency(ms) -  {time_avg_ms:.6f} +\\- {time_std_ms:.6f}\")\n"
      ],
      "metadata": {
        "colab": {
          "base_uri": "https://localhost:8080/"
        },
        "id": "tkZ_BrVo5pmJ",
        "outputId": "cde3d0ff-04a6-481d-8ae3-fbb263c41204"
      },
      "execution_count": 43,
      "outputs": [
        {
          "output_type": "stream",
          "name": "stdout",
          "text": [
            "number of parameters: 3222637\n",
            "Average latency(ms) -  0.000187 +\\- 0.000018\n"
          ]
        }
      ]
    },
    {
      "cell_type": "code",
      "source": [
        "## Warmup\n",
        "\n",
        "import numpy as np\n",
        "from time import perf_counter\n",
        "\n",
        "model = model_int8\n",
        "device = torch.device(\"cuda\")\n",
        "model.to(device)\n",
        "latencies = []\n",
        "### gpu warmup\n",
        "\n",
        "for _ in range(10):\n",
        "  _ = model\n",
        "for _ in range(100):\n",
        "  start_time = perf_counter()\n",
        "  _ = model\n",
        "  latency = perf_counter() - start_time\n",
        "  torch.cuda.synchronize()\n",
        "\n",
        "  latencies.append(latency)\n",
        "\n",
        "## compute the run stats\n",
        "time_avg_ms = 1000 * np.mean(latencies)\n",
        "time_std_ms = 1000 * np.std(latencies)\n",
        "print(f\"Average latency(ms) -  {time_avg_ms:.6f} +\\- {time_std_ms:.6f}\")"
      ],
      "metadata": {
        "colab": {
          "base_uri": "https://localhost:8080/"
        },
        "id": "VgSU7_ku8JbI",
        "outputId": "63f8d9c4-d047-4a51-a8f3-612e4e5d053b"
      },
      "execution_count": 44,
      "outputs": [
        {
          "output_type": "stream",
          "name": "stdout",
          "text": [
            "Average latency(ms) -  0.000245 +\\- 0.000062\n"
          ]
        }
      ]
    },
    {
      "cell_type": "code",
      "source": [
        "from time import perf_counter\n",
        "\n",
        "## compute time pipeline\n",
        "model = BabyGPTmodel(config)\n",
        "device = torch.device(\"cuda\")\n",
        "model.to(device)\n",
        "latencies = []\n",
        "### gpu warmup\n",
        "\n",
        "for _ in range(10):\n",
        "  _ = model\n",
        "for _ in range(100):\n",
        "  start_time = perf_counter()\n",
        "  _ = model\n",
        "  latency = perf_counter() - start_time\n",
        "  torch.cuda.synchronize()\n",
        "\n",
        "  latencies.append(latency)\n",
        "print(f\"latency(ms) - {1000 * latency:.6f}\")"
      ],
      "metadata": {
        "colab": {
          "base_uri": "https://localhost:8080/"
        },
        "id": "7iVzcYCV7XCX",
        "outputId": "da7462a1-88e5-4834-f2c9-06e4edd867e8"
      },
      "execution_count": 65,
      "outputs": [
        {
          "output_type": "stream",
          "name": "stdout",
          "text": [
            "number of parameters: 3222637\n",
            "latency(ms) - 0.000210\n"
          ]
        }
      ]
    },
    {
      "cell_type": "code",
      "source": [
        "from time import perf_counter\n",
        "\n",
        "## compute time pipeline\n",
        "model = model_int8\n",
        "device = torch.device(\"cuda\")\n",
        "model.to(device)\n",
        "latencies = []\n",
        "### gpu warmup\n",
        "\n",
        "for _ in range(10):\n",
        "  _ = model\n",
        "for _ in range(100):\n",
        "  start_time = perf_counter()\n",
        "  _ = model\n",
        "  latency = perf_counter() - start_time\n",
        "  torch.cuda.synchronize()\n",
        "\n",
        "  latencies.append(latency)\n",
        "print(f\"latency(ms) - {1000 * latency:.6f}\")\n",
        "\n"
      ],
      "metadata": {
        "colab": {
          "base_uri": "https://localhost:8080/"
        },
        "id": "T0_fvDaXJhuX",
        "outputId": "e7f96b8e-6b21-4b31-aa60-85d6e85177de"
      },
      "execution_count": 69,
      "outputs": [
        {
          "output_type": "stream",
          "name": "stdout",
          "text": [
            "latency(ms) - 0.000176\n"
          ]
        }
      ]
    },
    {
      "cell_type": "code",
      "source": [
        "import numpy as np\n",
        "import matplotlib.pyplot as plt\n",
        "\n",
        "\n",
        "### choosing one of the attention weight matrices\n",
        "state_dict = model.state_dict()\n",
        "w = state_dict[\"blocks.0.attention.atten.weight\"]\n",
        "\n",
        "plt.hist(w.flatten().numpy(), bins = 250, range = (-0.1, 0.1), edgecolor = 'C0')\n",
        "plt.show()\n"
      ],
      "metadata": {
        "colab": {
          "base_uri": "https://localhost:8080/",
          "height": 430
        },
        "id": "PM3aPOXmOdn2",
        "outputId": "240d35f5-33a3-45c3-c707-df4bc38b481e"
      },
      "execution_count": 12,
      "outputs": [
        {
          "output_type": "display_data",
          "data": {
            "text/plain": [
              "<Figure size 640x480 with 1 Axes>"
            ],
            "image/png": "[encoded data removed]"
          },
          "metadata": {}
        }
      ]
    },
    {
      "cell_type": "code",
      "source": [
        "from torch import quantize_per_tensor\n",
        "zero_point = 0\n",
        "scale = (w.max() - w.min())/(127 -(-128))\n",
        "\n",
        "q = (w/scale + zero_point).clamp(-128, 127).round().char()\n",
        "q.size()"
      ],
      "metadata": {
        "colab": {
          "base_uri": "https://localhost:8080/"
        },
        "id": "glBYOfTjTn0S",
        "outputId": "c8ff6b9a-3d8e-4855-924c-a7a39c781992"
      },
      "execution_count": 13,
      "outputs": [
        {
          "output_type": "execute_result",
          "data": {
            "text/plain": [
              "torch.Size([768, 256])"
            ]
          },
          "metadata": {},
          "execution_count": 13
        }
      ]
    },
    {
      "cell_type": "code",
      "source": [
        "dtype = torch.qint8\n",
        "qw = quantize_per_tensor(w, scale, zero_point, dtype)\n",
        "qw.int_repr()\n",
        "qw.size()"
      ],
      "metadata": {
        "colab": {
          "base_uri": "https://localhost:8080/"
        },
        "id": "n9g7fMU7UZjF",
        "outputId": "34203e39-cd26-4e80-e81d-db8bd032e460"
      },
      "execution_count": 14,
      "outputs": [
        {
          "output_type": "execute_result",
          "data": {
            "text/plain": [
              "torch.Size([768, 256])"
            ]
          },
          "metadata": {},
          "execution_count": 14
        }
      ]
    },
    {
      "cell_type": "code",
      "source": [
        "plt.hist(w.flatten(), bins = 250, range = (-0.125, 0.125), edgecolor = 'C0')\n",
        "plt.show()"
      ],
      "metadata": {
        "colab": {
          "base_uri": "https://localhost:8080/",
          "height": 430
        },
        "id": "SqlOuPiNl-kn",
        "outputId": "8581edb6-e15c-4586-d06c-03b0538b519d"
      },
      "execution_count": 15,
      "outputs": [
        {
          "output_type": "display_data",
          "data": {
            "text/plain": [
              "<Figure size 640x480 with 1 Axes>"
            ],
            "image/png": "[encoded data removed]"
          },
          "metadata": {}
        }
      ]
    },
    {
      "cell_type": "code",
      "source": [
        "%%timeit\n",
        "\n",
        "p = w * w"
      ],
      "metadata": {
        "colab": {
          "base_uri": "https://localhost:8080/"
        },
        "id": "7G6YwSI5ww7N",
        "outputId": "3fb0e833-77e1-4fe5-c433-f89dccf2eddf"
      },
      "execution_count": 16,
      "outputs": [
        {
          "output_type": "stream",
          "name": "stdout",
          "text": [
            "53.1 µs ± 1.3 µs per loop (mean ± std. dev. of 7 runs, 10000 loops each)\n"
          ]
        }
      ]
    },
    {
      "cell_type": "code",
      "source": [
        "%%timeit\n",
        "quantw = q * q"
      ],
      "metadata": {
        "colab": {
          "base_uri": "https://localhost:8080/"
        },
        "id": "umCJHPOBXRhm",
        "outputId": "66620742-a6e9-44e4-9f64-be5592ff476d"
      },
      "execution_count": 17,
      "outputs": [
        {
          "output_type": "stream",
          "name": "stdout",
          "text": [
            "15.2 µs ± 966 ns per loop (mean ± std. dev. of 7 runs, 100000 loops each)\n"
          ]
        }
      ]
    },
    {
      "cell_type": "code",
      "source": [
        "import sys\n",
        "sys.getsizeof(w.storage())/ sys.getsizeof(qw.storage())"
      ],
      "metadata": {
        "colab": {
          "base_uri": "https://localhost:8080/"
        },
        "id": "MZk3T0PxslBP",
        "outputId": "7b7353af-8f65-4302-ab5c-6e71f7a7e6cb"
      },
      "execution_count": 18,
      "outputs": [
        {
          "output_type": "stream",
          "name": "stderr",
          "text": [
            "<ipython-input-18-ba1baa55a96d>:2: UserWarning: TypedStorage is deprecated. It will be removed in the future and UntypedStorage will be the only storage class. This should only matter to you if you are using storages directly.  To access UntypedStorage directly, use tensor.untyped_storage() instead of tensor.storage()\n",
            "  sys.getsizeof(w.storage())/ sys.getsizeof(qw.storage())\n"
          ]
        },
        {
          "output_type": "execute_result",
          "data": {
            "text/plain": [
              "3.9992677568952892"
            ]
          },
          "metadata": {},
          "execution_count": 18
        }
      ]
    },
    {
      "cell_type": "code",
      "source": [
        "import torch\n",
        "import time\n",
        "\n",
        "# Define your models\n",
        "model1 = BabyGPTmodel(config)\n",
        "model2 = model_int8\n",
        "# Define additional models as needed\n",
        "\n",
        "# Set the models to evaluation mode\n",
        "model1.eval()\n",
        "model2.eval()\n",
        "# Set additional models to evaluation mode\n",
        "\n",
        "\n",
        "\n",
        "# Define the number of iterations for the benchmark\n",
        "num_iterations = 10000\n",
        "\n",
        "# Define dictionaries to store inference times\n",
        "model_inference_times = {}\n",
        "\n",
        "# Perform the benchmark for each model\n",
        "for model_name, model in [(\"Model 1\", model1), (\"Model 2\", model2)]:\n",
        "    # Initialize a list to store inference times for the current model\n",
        "    inference_times = []\n",
        "\n",
        "    # Run the model for the specified number of iterations\n",
        "    for _ in range(num_iterations):\n",
        "        start_time = time.time()\n",
        "        _ = model\n",
        "        end_time = time.time()\n",
        "\n",
        "        # Calculate the inference time\n",
        "        inference_time = end_time - start_time\n",
        "\n",
        "        # Append the inference time to the list\n",
        "        inference_times.append(inference_time)\n",
        "\n",
        "    # Store the inference times for the current model\n",
        "    model_inference_times[model_name] = inference_times\n",
        "\n",
        "# Print the benchmark results\n",
        "for model_name, inference_times in model_inference_times.items():\n",
        "    avg_inference_time = sum(inference_times) / len(inference_times)\n",
        "    print(f\"{model_name} average inference time: {avg_inference_time * 1000} ms\")\n"
      ],
      "metadata": {
        "colab": {
          "base_uri": "https://localhost:8080/"
        },
        "id": "O3AJXRg_8zlm",
        "outputId": "ba50ffef-ed4d-40a5-fc81-37e5fba22f70"
      },
      "execution_count": 60,
      "outputs": [
        {
          "output_type": "stream",
          "name": "stdout",
          "text": [
            "number of parameters: 3222637\n",
            "Model 1 average inference time: 0.00015320777893066404 ms\n",
            "Model 2 average inference time: 0.0001468658447265625 ms\n"
          ]
        }
      ]
    },
    {
      "cell_type": "code",
      "source": [
        "import matplotlib.pyplot as plt\n",
        "\n",
        "# Define the models and their average inference times\n",
        "models = [ 'BabyGPTmodel', 'Quantized int8']\n",
        "inference_times = [0.00017404556274414062 , 0.000152587890625 ]  # Example average inference times in seconds\n",
        "\n",
        "# Create a bar chart\n",
        "plt.bar(models, inference_times, color=['blue', 'red'])\n",
        "\n",
        "# Add labels and title\n",
        "plt.xlabel('Models')\n",
        "plt.ylabel('Average Inference Time (ms)')\n",
        "plt.title('Performance Benchmark')\n",
        "\n",
        "# Show the plot\n",
        "plt.show()"
      ],
      "metadata": {
        "colab": {
          "base_uri": "https://localhost:8080/",
          "height": 472
        },
        "id": "J4Ov-A4EDV1A",
        "outputId": "27263bb9-c15d-4f55-99d1-ff0d8419a2d7"
      },
      "execution_count": 86,
      "outputs": [
        {
          "output_type": "display_data",
          "data": {
            "text/plain": [
              "<Figure size 640x480 with 1 Axes>"
            ],
            "image/png": "[encoded data removed]"
          },
          "metadata": {}
        }
      ]
    },
    {
      "cell_type": "code",
      "source": [
        "import matplotlib.pyplot as plt\n",
        "\n",
        "# Define the models\n",
        "models = ['BabyGPTmodel', 'quantized int8 model']\n",
        "\n",
        "# Define the performance metrics\n",
        "latency = [0.000210,  0.000176]  # Example latency values in milliseconds\n",
        "memory = [12.98, 3.46]  # Example memory usage values in megabytes\n",
        "throughput = [1.6311084996846195, 1.14]  # Example throughput values in requests per second\n",
        "inference_time = [0.0001532077, 0.000146]  # Example inference time values in seconds\n",
        "\n",
        "\n",
        "# Create a bar chart for each performance metric\n",
        "fig, axs = plt.subplots(2, 2, figsize=(10, 8))\n",
        "colors = ['red', 'blue']\n",
        "# Plot latency\n",
        "axs[0, 0].bar(models, latency, color = colors)\n",
        "axs[0, 0].set_title('Latency (ms)')\n",
        "axs[0, 0].set_xlabel('Models')\n",
        "\n",
        "\n",
        "# Plot memory\n",
        "axs[0, 1].bar(models, memory, color = colors)\n",
        "axs[0, 1].set_title('Memory Usage (MB)')\n",
        "axs[0, 1].set_xlabel('Models')\n",
        "\n",
        "# Plot throughput\n",
        "axs[1, 0].bar(models, throughput, color = colors)\n",
        "axs[1, 0].set_title('Throughput (mb req/s)')\n",
        "axs[1, 0].set_xlabel('Models')\n",
        "\n",
        "# Plot inference time\n",
        "axs[1, 1].bar(models, inference_time, color = colors)\n",
        "axs[1, 1].set_title('Inference Time (ms)')\n",
        "axs[1, 1].set_xlabel('Models')\n",
        "\n",
        "fig.suptitle('Performance Benchmark on 3.22M parametres, Tesla T4')\n",
        "\n",
        "\n",
        "# Adjust spacing between subplots\n",
        "plt.tight_layout(rect=[0, 0.03, 1, 0.95])\n",
        "\n",
        "# Show the plot\n",
        "plt.show()\n"
      ],
      "metadata": {
        "colab": {
          "base_uri": "https://localhost:8080/",
          "height": 782
        },
        "id": "WxPLTfwBFbc2",
        "outputId": "96448929-8783-42b3-c2e7-9741e666a69e"
      },
      "execution_count": 97,
      "outputs": [
        {
          "output_type": "display_data",
          "data": {
            "text/plain": [
              "<Figure size 1000x800 with 4 Axes>"
            ],
            "image/png": "[encoded data removed]"
          },
          "metadata": {}
        }
      ]
    }
  ]
}